{
 "cells": [
  {
   "cell_type": "code",
   "execution_count": 19,
   "metadata": {},
   "outputs": [
    {
     "name": "stdout",
     "output_type": "stream",
     "text": [
      "/home/mitchell/Documents/masters/masters/data\n",
      "FlatLambdaCDM(name=\"Planck13\", H0=67.8 km / (Mpc s), Om0=0.307, Tcmb0=2.725 K, Neff=3.05, m_nu=[ 0.    0.    0.06] eV, Ob0=0.0483)\n"
     ]
    }
   ],
   "source": [
    "import numpy as np\n",
    "import scipy as sp\n",
    "import astropy as ap\n",
    "import glob\n",
    "import pandas as pd\n",
    "import matplotlib.pyplot as plt\n",
    "from scipy.integrate import quad\n",
    "import scipy.constants as const\n",
    "from astropy import constants as ap_const\n",
    "import scipy.ndimage \n",
    "import PIL\n",
    "from mpdaf.obj import Image,WCS\n",
    "import sptpol_software as sps\n",
    "from astropy.io import fits\n",
    "from astropy.cosmology import Planck13\n",
    "from astropy import units as u\n",
    "import scipy.spatial.distance as dist\n",
    "import os \n",
    "# os.chdir(\"/home/mitchell/Documents/masters/masters/data\")\n",
    "cwd = os.getcwd()\n",
    "print(cwd)\n",
    "print(Planck13)\n",
    "cosmo= Planck13\n",
    "import scipy.spatial.distance as dist\n",
    "from scipy import sparse\n",
    "from scipy.spatial import cKDTree as KDTree"
   ]
  },
  {
   "cell_type": "code",
   "execution_count": 16,
   "metadata": {},
   "outputs": [],
   "source": [
    "def getPairs(data_frame, max_sep=20, query_type = 1,results_loc='PAIRS_sparse_dist.npz', save_frame=False, output='DES_REDMAGIC_Manipulated.csv'):\n",
    "    '''\n",
    "    Takes a data frame with RA, DEC, and COMOVING distances, and pairs\n",
    "    up those vectors with the closest vector under a given maximum separation\n",
    "    and store the results in an array where:\n",
    "    results[0] = First Item\n",
    "    results[1] = Second Item\n",
    "    results[2] = Distance between First Item and Second Item\n",
    "    '''\n",
    "    if 'RA' not in data_frame.columns:\n",
    "        return(\"Error: RA not in Data Frame\")\n",
    "    if 'DEC' not in data_frame.columns:\n",
    "        return(\"Error: DEC not in Data Frame\")\n",
    "#     if 'COMOVING' not in data_frame.columns:\n",
    "#         return(\"Error: COMOVINGb not in Data Frame\")\n",
    "\n",
    "#     vec_distances = []\n",
    "#     for index in range(len(data_frame)):\n",
    "#         vec_distances.append(get_vec_distances(\n",
    "#             data_frame['RA'][index], data_frame['DEC'][index]))\n",
    "# #         , data_frame['COMOVING'][index]\n",
    "\n",
    "#     data_frame['x_vec'] = pd.Series(np.transpose(vec_distances)[0])\n",
    "#     data_frame['y_vec'] = pd.Series(np.transpose(vec_distances)[1])\n",
    "#     data_frame['z_vec'] = pd.Series(np.transpose(vec_distances)[2])\n",
    "\n",
    "    # vec = [data_frame['x_vec'][0], data_frame['y_vec']\n",
    "    #    [0], data_frame['z_vec'][0]]\n",
    "    vec_frame = np.vstack(\n",
    "        (data_frame['RA'], data_frame['DEC']))\n",
    "#     , data_frame['z_vec']\n",
    "    vec_frame = vec_frame.T\n",
    "\n",
    "    frame_tree = KDTree(vec_frame)\n",
    "    if query_type == 1:\n",
    "        dist_matr = frame_tree.sparse_distance_matrix(\n",
    "            frame_tree, max_distance=max_sep, p=2.0, output_type='ndarray')\n",
    "    elif query_type == 2:\n",
    "            dist_matr = frame_tree.query_pairs(r=max_sep, p=2.0, output_type='ndarray')\n",
    "    dist_u = dist_matr[dist_matr['i'] < dist_matr['j']]\n",
    "    result = sparse.coo_matrix(\n",
    "        (dist_u['v'], (dist_u['i'], dist_u['j'])), (len(dist_u), len(dist_u)))\n",
    "\n",
    "    if save_frame == True:\n",
    "        data_frame.to_csv(output)\n",
    "\n",
    "    sp.sparse.save_npz(results_loc, result)\n",
    "\n",
    "    pairs_matrix = np.vstack((dist_u['i'], dist_u['j'], dist_u['v']))\n",
    "\n",
    "    return(pairs_matrix)"
   ]
  },
  {
   "cell_type": "code",
   "execution_count": 8,
   "metadata": {},
   "outputs": [],
   "source": [
    "from astropy.table import Table\n",
    "with fits.open(\"DES_Y1A1_3x2pt_redMaGiC_zerr_CATALOG.fits\") as data:\n",
    "    df = pd.DataFrame(data[1].data)"
   ]
  },
  {
   "cell_type": "code",
   "execution_count": 18,
   "metadata": {},
   "outputs": [
    {
     "ename": "MemoryError",
     "evalue": "",
     "output_type": "error",
     "traceback": [
      "\u001b[0;31m---------------------------------------------------------------------------\u001b[0m",
      "\u001b[0;31mMemoryError\u001b[0m                               Traceback (most recent call last)",
      "\u001b[0;32m<ipython-input-18-8ba1849028a4>\u001b[0m in \u001b[0;36m<module>\u001b[0;34m()\u001b[0m\n\u001b[0;32m----> 1\u001b[0;31m \u001b[0mpairs\u001b[0m \u001b[0;34m=\u001b[0m \u001b[0mgetPairs\u001b[0m\u001b[0;34m(\u001b[0m\u001b[0mdf\u001b[0m\u001b[0;34m,\u001b[0m\u001b[0;36m3\u001b[0m\u001b[0;34m)\u001b[0m\u001b[0;34m\u001b[0m\u001b[0m\n\u001b[0m",
      "\u001b[0;32m<ipython-input-16-12fb12857846>\u001b[0m in \u001b[0;36mgetPairs\u001b[0;34m(data_frame, max_sep, query_type, results_loc, save_frame, output)\u001b[0m\n\u001b[1;32m     35\u001b[0m     \u001b[0;32mif\u001b[0m \u001b[0mquery_type\u001b[0m \u001b[0;34m==\u001b[0m \u001b[0;36m1\u001b[0m\u001b[0;34m:\u001b[0m\u001b[0;34m\u001b[0m\u001b[0m\n\u001b[1;32m     36\u001b[0m         dist_matr = frame_tree.sparse_distance_matrix(\n\u001b[0;32m---> 37\u001b[0;31m             frame_tree, max_distance=max_sep, p=2.0, output_type='ndarray')\n\u001b[0m\u001b[1;32m     38\u001b[0m     \u001b[0;32melif\u001b[0m \u001b[0mquery_type\u001b[0m \u001b[0;34m==\u001b[0m \u001b[0;36m2\u001b[0m\u001b[0;34m:\u001b[0m\u001b[0;34m\u001b[0m\u001b[0m\n\u001b[1;32m     39\u001b[0m             \u001b[0mdist_matr\u001b[0m \u001b[0;34m=\u001b[0m \u001b[0mframe_tree\u001b[0m\u001b[0;34m.\u001b[0m\u001b[0mquery_pairs\u001b[0m\u001b[0;34m(\u001b[0m\u001b[0mr\u001b[0m\u001b[0;34m=\u001b[0m\u001b[0mmax_sep\u001b[0m\u001b[0;34m,\u001b[0m \u001b[0mp\u001b[0m\u001b[0;34m=\u001b[0m\u001b[0;36m2.0\u001b[0m\u001b[0;34m,\u001b[0m \u001b[0moutput_type\u001b[0m\u001b[0;34m=\u001b[0m\u001b[0;34m'ndarray'\u001b[0m\u001b[0;34m)\u001b[0m\u001b[0;34m\u001b[0m\u001b[0m\n",
      "\u001b[0;32mckdtree.pyx\u001b[0m in \u001b[0;36mscipy.spatial.ckdtree.cKDTree.sparse_distance_matrix\u001b[0;34m()\u001b[0m\n",
      "\u001b[0;31mMemoryError\u001b[0m: "
     ]
    }
   ],
   "source": [
    "pairs = getPairs(df,3)"
   ]
  },
  {
   "cell_type": "code",
   "execution_count": null,
   "metadata": {},
   "outputs": [],
   "source": []
  }
 ],
 "metadata": {
  "kernelspec": {
   "display_name": "Python (Cloud)",
   "language": "python",
   "name": "cloud"
  },
  "language_info": {
   "codemirror_mode": {
    "name": "ipython",
    "version": 2
   },
   "file_extension": ".py",
   "mimetype": "text/x-python",
   "name": "python",
   "nbconvert_exporter": "python",
   "pygments_lexer": "ipython2",
   "version": "2.7.15"
  }
 },
 "nbformat": 4,
 "nbformat_minor": 2
}
