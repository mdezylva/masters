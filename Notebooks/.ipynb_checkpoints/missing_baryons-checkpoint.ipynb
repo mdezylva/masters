{
 "cells": [
  {
   "cell_type": "code",
   "execution_count": 1,
   "metadata": {},
   "outputs": [],
   "source": [
    "import numpy as np\n",
    "import scipy as sp\n",
    "import astropy as ap\n",
    "from scipy import ndimage"
   ]
  },
  {
   "cell_type": "code",
   "execution_count": 2,
   "metadata": {},
   "outputs": [
    {
     "name": "stdout",
     "output_type": "stream",
     "text": [
      "Rotation by 45 degrees\n",
      "[[0 0 0 0 0 0]\n",
      " [0 0 0 0 0 0]\n",
      " [1 1 0 0 1 1]\n",
      " [1 1 0 0 1 1]\n",
      " [0 0 0 0 0 0]\n",
      " [0 0 0 0 0 0]]\n",
      "Rotation by 55 degrees\n",
      "[[0 0 0 0 0 0]\n",
      " [0 0 0 0 0 0]\n",
      " [1 1 1 0 1 1]\n",
      " [0 1 1 0 1 1]\n",
      " [0 0 0 0 0 0]\n",
      " [0 0 0 0 0 0]]\n"
     ]
    }
   ],
   "source": [
    "#Need to learn how to rotate array\n",
    "\n",
    "matr_1= [[0, 1, 0, 0, 0, 0],\n",
    "        [1, 1, 1, 0, 0, 0],\n",
    "        [0, 1, 0, 0, 0, 0],\n",
    "        [0, 0, 0, 0, 1, 0],\n",
    "        [0, 0, 0, 1, 1, 1],\n",
    "        [0, 0, 0, 0, 1, 0]]\n",
    "\n",
    "matr_2= [[0, 0, 1, 0, 0, 0],\n",
    "        [0, 1, 1, 1, 0, 0],\n",
    "        [0, 0, 1, 0, 0, 0],\n",
    "        [0, 0, 0, 0, 1, 0],\n",
    "        [0, 0, 0, 1, 1, 1],\n",
    "        [0, 0, 0, 0, 1, 0]]\n",
    "\n",
    "print(\"Rotation by 45 degrees\")\n",
    "print(ndimage.rotate(matr_1, 45, reshape=False))\n",
    "\n",
    "print(\"Rotation by 55 degrees\")\n",
    "print(ndimage.rotate(matr_2, 55, reshape=False))\n",
    "\n"
   ]
  },
  {
   "cell_type": "code",
   "execution_count": 3,
   "metadata": {},
   "outputs": [
    {
     "name": "stdout",
     "output_type": "stream",
     "text": [
      "Original Matrix\n",
      "Original Dimension = (6, 6)\n",
      "[[0.55911785 0.38565567 0.33915408 0.96240449 0.85172541 0.49169546]\n",
      " [0.69770285 0.93600307 0.36478286 0.41714304 0.16077046 0.5560917 ]\n",
      " [0.96547317 0.98052876 0.70079598 0.26371723 0.58756878 0.23655975]\n",
      " [0.59312673 0.87732727 0.33412575 0.5581224  0.98929264 0.27892787]\n",
      " [0.95172086 0.56380419 0.11357682 0.43773716 0.69484024 0.14831199]\n",
      " [0.46228076 0.45841274 0.49834428 0.6066905  0.73131712 0.15581361]]\n",
      "Rotated Matrix\n",
      "Rotated Dimension = (6, 6)\n",
      "[[0.         0.         0.69066905 0.4248233  0.         0.        ]\n",
      " [0.         0.57648438 0.32159635 0.42339541 0.42351636 0.        ]\n",
      " [0.49735088 0.49831    0.38749956 0.54406595 0.97996933 0.30470976]\n",
      " [0.82170606 0.99563083 0.6894091  0.26272625 0.55685812 0.73040597]\n",
      " [0.         0.81118519 0.79627203 0.14328671 0.43862863 0.        ]\n",
      " [0.         0.         0.89029665 0.45569119 0.         0.        ]]\n"
     ]
    }
   ],
   "source": [
    "rand_matr = np.random.rand(6,6)\n",
    "print(\"Original Matrix\")\n",
    "print(\"Original Dimension = \" + str(np.shape(rand_matr)))\n",
    "print(rand_matr)\n",
    "print(\"Rotated Matrix\")\n",
    "rot_matr = ndimage.rotate(rand_matr, 45, reshape=False)\n",
    "print(\"Rotated Dimension = \"+ str(np.shape(rot_matr)))\n",
    "print(rot_matr)\n"
   ]
  },
  {
   "cell_type": "markdown",
   "metadata": {},
   "source": [
    "# Need to Consider Galaxy Selection Criteria\n",
    "## LRG Criteria from Literature\n",
    "1709.05024\n",
    "\n",
    "LRG Paper Selects $M_\\star>10^{11.3} M_\\odot$ and reject satellite LRGs by discounting them if there is a more massive LRG within $1 h^-1 $Mpc and within radial velocity dist $|c \\Delta z | < 1000 $km/s\n",
    "\n",
    "LRG Pairs are chosen by finding all neighboring pairs of LRG's within $6-10 h^-1$ Mpc tangential distance, and within a proper radial distance of $\\pm 6 h^-1$ Mpc\n",
    "\n",
    "262,864 LRG Pairs out to $z\\approx 0.4$\n",
    "\n",
    "## Galaxy Selection from Literature\n",
    "1709.10378v2\n",
    "\n",
    "Using CMASS Galaxy Catalogue from SDSS DR12, galaxies were selected so that they are separated by up to $>20 h^-1$ Mpc\n",
    "\n",
    "Projected Separation of $6-14 h^-1$ Mpc and line of sight separation of $>5 h^-1$ Mpc\n",
    "\n",
    "~1,000,000 Galaxy Pairs found with mean separation $10 h^-1$ Mpc, which puts it well beyond host DM halo\n",
    "\n"
   ]
  },
  {
   "cell_type": "code",
   "execution_count": null,
   "metadata": {},
   "outputs": [],
   "source": []
  }
 ],
 "metadata": {
  "kernelspec": {
   "display_name": "Python 3",
   "language": "python",
   "name": "python3"
  },
  "language_info": {
   "codemirror_mode": {
    "name": "ipython",
    "version": 3
   },
   "file_extension": ".py",
   "mimetype": "text/x-python",
   "name": "python",
   "nbconvert_exporter": "python",
   "pygments_lexer": "ipython3",
   "version": "3.6.6"
  }
 },
 "nbformat": 4,
 "nbformat_minor": 2
}
