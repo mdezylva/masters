{
 "cells": [
  {
   "cell_type": "code",
   "execution_count": 5,
   "metadata": {},
   "outputs": [],
   "source": [
    "import numpy as np\n",
    "import scipy as sp\n",
    "import astropy as ap\n",
    "\n",
    "import matplotlib.pyplot as plt\n",
    "import scipy.ndimage \n",
    "import PIL"
   ]
  },
  {
   "cell_type": "markdown",
   "metadata": {},
   "source": [
    "### Need to find method of rotating array for stacking purposes"
   ]
  },
  {
   "cell_type": "code",
   "execution_count": 6,
   "metadata": {},
   "outputs": [
    {
     "data": {
      "image/png": "[encoded data removed]",
      "text/plain": [
       "<Figure size 432x288 with 1 Axes>"
      ]
     },
     "metadata": {},
     "output_type": "display_data"
    },
    {
     "name": "stdout",
     "output_type": "stream",
     "text": [
      "Rotation by 45 degrees\n"
     ]
    },
    {
     "data": {
      "image/png": "[encoded data removed]",
      "text/plain": [
       "<Figure size 432x288 with 1 Axes>"
      ]
     },
     "metadata": {},
     "output_type": "display_data"
    },
    {
     "name": "stdout",
     "output_type": "stream",
     "text": [
      "Rotation by 55 degrees\n",
      "[[0 0 0 0 1 0]\n",
      " [0 0 0 1 1 1]\n",
      " [0 1 0 0 1 0]\n",
      " [1 1 1 0 0 0]\n",
      " [0 1 0 0 0 0]\n",
      " [0 0 0 0 0 0]]\n"
     ]
    },
    {
     "data": {
      "text/plain": [
       "<matplotlib.image.AxesImage at 0x7f5dd41ab518>"
      ]
     },
     "execution_count": 6,
     "metadata": {},
     "output_type": "execute_result"
    },
    {
     "data": {
      "image/png": "[encoded data removed]",
      "text/plain": [
       "<Figure size 432x288 with 1 Axes>"
      ]
     },
     "metadata": {},
     "output_type": "display_data"
    }
   ],
   "source": [
    "#Need to learn how to rotate array\n",
    "\n",
    "matr_1= [[0, 1, 0, 0, 0, 0],\n",
    "        [1, 1, 1, 0, 0, 0],\n",
    "        [0, 1, 0, 0, 0, 0],\n",
    "        [0, 0, 0, 0, 1, 0],\n",
    "        [0, 0, 0, 1, 1, 1],\n",
    "        [0, 0, 0, 0, 1, 0]]\n",
    "\n",
    "matr_2= [[0, 0, 1, 0, 0, 0],\n",
    "        [0, 1, 1, 1, 0, 0],\n",
    "        [0, 0, 1, 0, 0, 0],\n",
    "        [0, 0, 0, 0, 1, 0],\n",
    "        [0, 0, 0, 1, 1, 1],\n",
    "        [0, 0, 0, 0, 1, 0]]\n",
    "\n",
    "plt.imshow(matr_1)\n",
    "plt.show()\n",
    "print(\"Rotation by 45 degrees\")\n",
    "#print(sp.ndimage.rotate(matr_1, 45, reshape=False))\n",
    "plt.imshow(sp.ndimage.rotate(matr_1,45,reshape=False))\n",
    "plt.show()\n",
    "print(\"Rotation by 55 degrees\")\n",
    "print(sp.ndimage.rotate(matr_2, 90, reshape=False))\n",
    "plt.imshow(sp.ndimage.rotate(matr_1,90,reshape=False))\n"
   ]
  },
  {
   "cell_type": "code",
   "execution_count": 7,
   "metadata": {},
   "outputs": [
    {
     "name": "stdout",
     "output_type": "stream",
     "text": [
      "Original Matrix\n",
      "Original Dimension = (6, 6)\n"
     ]
    },
    {
     "data": {
      "image/png": "[encoded data removed]",
      "text/plain": [
       "<Figure size 432x288 with 1 Axes>"
      ]
     },
     "metadata": {},
     "output_type": "display_data"
    },
    {
     "name": "stdout",
     "output_type": "stream",
     "text": [
      "Rotated Matrix\n",
      "Rotated Dimension = (8, 8)\n"
     ]
    },
    {
     "data": {
      "image/png": "[encoded data removed]",
      "text/plain": [
       "<Figure size 432x288 with 1 Axes>"
      ]
     },
     "metadata": {},
     "output_type": "display_data"
    }
   ],
   "source": [
    "rand_matr = np.random.rand(6,6)\n",
    "print(\"Original Matrix\")\n",
    "print(\"Original Dimension = \" + str(np.shape(rand_matr)))\n",
    "#print(rand_matr)\n",
    "plt.imshow(rand_matr)\n",
    "plt.show()\n",
    "print(\"Rotated Matrix\")\n",
    "rot_matr = sp.ndimage.rotate(rand_matr, 45, reshape=True)\n",
    "print(\"Rotated Dimension = \"+ str(np.shape(rot_matr)))\n",
    "#print(rot_matr)\n",
    "plt.imshow(rot_matr)\n",
    "plt.show()"
   ]
  },
  {
   "cell_type": "markdown",
   "metadata": {},
   "source": [
    "Can use the above method to rotate matrix, but there is some loss of information, so must ensure this doesn't affect the calculation too much\n"
   ]
  },
  {
   "cell_type": "markdown",
   "metadata": {},
   "source": [
    "# Need to Consider Galaxy Selection Criteria\n",
    "## LRG Criteria from Literature\n",
    "1709.05024\n",
    "\n",
    "LRG Paper Selects $M_\\star>10^{11.3} M_\\odot$ and reject satellite LRGs by discounting them if there is a more massive LRG within $1 h^-1 $Mpc and within radial velocity dist $|c \\Delta z | < 1000 $km/s\n",
    "\n",
    "LRG Pairs are chosen by finding all neighboring pairs of LRG's within $6-10 h^-1$ Mpc tangential distance, and within a proper radial distance of $\\pm 6 h^-1$ Mpc\n",
    "\n",
    "262,864 LRG Pairs out to $z\\approx 0.4$\n",
    "\n",
    "## Galaxy Selection from Literature\n",
    "1709.10378v2\n",
    "\n",
    "Using CMASS Galaxy Catalogue from SDSS DR12, galaxies were selected so that they are separated by up to $>20 h^-1$ Mpc\n",
    "\n",
    "Projected Separation of $6-14 h^-1$ Mpc and line of sight separation of $>5 h^-1$ Mpc\n",
    "\n",
    "~1,000,000 Galaxy Pairs found with mean separation $10 h^-1$ Mpc, which puts it well beyond host DM halo\n",
    "\n"
   ]
  },
  {
   "cell_type": "code",
   "execution_count": null,
   "metadata": {},
   "outputs": [],
   "source": []
  },
  {
   "cell_type": "markdown",
   "metadata": {},
   "source": [
    "Might want to consider developing a class to make processing easier\n"
   ]
  },
  {
   "cell_type": "code",
   "execution_count": null,
   "metadata": {},
   "outputs": [],
   "source": []
  },
  {
   "cell_type": "markdown",
   "metadata": {},
   "source": [
    "Looking into things, it appears that they use the target locations in from the Catalogues, and the stacking method to characterise the filament structure from the y-map. Need to normalise the projected length, to make the stacking effective, and null shear effects away. Unsure if we can use photo-z instead of spectral-z for this, and how the noise statistics change for either. "
   ]
  }
 ],
 "metadata": {
  "kernelspec": {
   "display_name": "Python 3",
   "language": "python",
   "name": "python3"
  },
  "language_info": {
   "codemirror_mode": {
    "name": "ipython",
    "version": 3
   },
   "file_extension": ".py",
   "mimetype": "text/x-python",
   "name": "python",
   "nbconvert_exporter": "python",
   "pygments_lexer": "ipython3",
   "version": "3.6.6"
  }
 },
 "nbformat": 4,
 "nbformat_minor": 2
}
