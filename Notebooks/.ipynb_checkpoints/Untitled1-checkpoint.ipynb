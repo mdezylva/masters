{
 "cells": [
  {
   "cell_type": "code",
   "execution_count": 15,
   "metadata": {},
   "outputs": [
    {
     "name": "stdout",
     "output_type": "stream",
     "text": [
      "/home/mitchell/Documents/masters/masters/data\n",
      "FlatLambdaCDM(name=\"Planck15\", H0=67.7 km / (Mpc s), Om0=0.307, Tcmb0=2.725 K, Neff=3.05, m_nu=[ 0.    0.    0.06] eV, Ob0=0.0486)\n"
     ]
    }
   ],
   "source": [
    "import numpy as np\n",
    "import scipy as sp\n",
    "import astropy as ap\n",
    "import glob\n",
    "import pandas as pd\n",
    "import matplotlib.pyplot as plt\n",
    "from scipy.integrate import quad\n",
    "import scipy.constants as const\n",
    "from astropy import constants as ap_const\n",
    "import scipy.ndimage \n",
    "import PIL\n",
    "from mpdaf.obj import Image,WCS\n",
    "import sptpol_software as sps\n",
    "from astropy.io import fits\n",
    "from astropy.cosmology import Planck15\n",
    "from astropy import units as u\n",
    "import scipy.spatial.distance as dist\n",
    "import os \n",
    "os.chdir(\"/home/mitchell/Documents/masters/masters/data\")\n",
    "cwd = os.getcwd()\n",
    "print(cwd)\n",
    "print(Planck15)\n",
    "cosmo= Planck15\n",
    "import scipy.spatial.distance as dist\n",
    "from scipy import sparse\n",
    "from scipy.spatial import cKDTree as KDTree"
   ]
  },
  {
   "cell_type": "code",
   "execution_count": 16,
   "metadata": {},
   "outputs": [],
   "source": [
    "def getPairs(data_frame, max_sep=20, query_type = 1,results_loc='PAIRS_sparse_dist.npz', save_frame=False, output='DES_REDMAGIC_Manipulated.csv'):\n",
    "    '''\n",
    "    Takes a data frame with RA, DEC, and COMOVING distances, and pairs\n",
    "    up those vectors with the closest vector under a given maximum separation\n",
    "    and store the results in an array where:\n",
    "    results[0] = First Item\n",
    "    results[1] = Second Item\n",
    "    results[2] = Distance between First Item and Second Item\n",
    "    '''\n",
    "    if 'RA' not in data_frame.columns:\n",
    "        return(\"Error: RA not in Data Frame\")\n",
    "    if 'DEC' not in data_frame.columns:\n",
    "        return(\"Error: DEC not in Data Frame\")\n",
    "#     if 'COMOVING' not in data_frame.columns:\n",
    "#         return(\"Error: COMOVINGb not in Data Frame\")\n",
    "\n",
    "#     vec_distances = []\n",
    "#     for index in range(len(data_frame)):\n",
    "#         vec_distances.append(get_vec_distances(\n",
    "#             data_frame['RA'][index], data_frame['DEC'][index]))\n",
    "# #         , data_frame['COMOVING'][index]\n",
    "\n",
    "#     data_frame['x_vec'] = pd.Series(np.transpose(vec_distances)[0])\n",
    "#     data_frame['y_vec'] = pd.Series(np.transpose(vec_distances)[1])\n",
    "#     data_frame['z_vec'] = pd.Series(np.transpose(vec_distances)[2])\n",
    "\n",
    "    # vec = [data_frame['x_vec'][0], data_frame['y_vec']\n",
    "    #    [0], data_frame['z_vec'][0]]\n",
    "    vec_frame = np.vstack(\n",
    "        (data_frame['RA'], data_frame['DEC']))\n",
    "#     , data_frame['z_vec']\n",
    "    vec_frame = vec_frame.T\n",
    "\n",
    "    frame_tree = KDTree(vec_frame)\n",
    "    if query_type == 1:\n",
    "        dist_matr = frame_tree.sparse_distance_matrix(\n",
    "            frame_tree, max_distance=max_sep, p=2.0, output_type='ndarray')\n",
    "    elif query_type == 2:\n",
    "            dist_matr = frame_tree.query_pairs(r=max_sep, p=2.0, output_type='ndarray')\n",
    "    dist_u = dist_matr[dist_matr['i'] < dist_matr['j']]\n",
    "    result = sparse.coo_matrix(\n",
    "        (dist_u['v'], (dist_u['i'], dist_u['j'])), (len(dist_u), len(dist_u)))\n",
    "\n",
    "    if save_frame == True:\n",
    "        data_frame.to_csv(output)\n",
    "\n",
    "    sp.sparse.save_npz(results_loc, result)\n",
    "\n",
    "    pairs_matrix = np.vstack((dist_u['i'], dist_u['j'], dist_u['v']))\n",
    "\n",
    "    return(pairs_matrix)"
   ]
  },
  {
   "cell_type": "code",
   "execution_count": 8,
   "metadata": {},
   "outputs": [],
   "source": [
    "from astropy.table import Table\n",
    "with fits.open(\"DES_Y1A1_3x2pt_redMaGiC_zerr_CATALOG.fits\") as data:\n",
    "    df = pd.DataFrame(data[1].data)"
   ]
  },
  {
   "cell_type": "code",
   "execution_count": null,
   "metadata": {},
   "outputs": [],
   "source": [
    "pairs = getPairs(df,3)"
   ]
  },
  {
   "cell_type": "code",
   "execution_count": null,
   "metadata": {},
   "outputs": [],
   "source": []
  }
 ],
 "metadata": {
  "kernelspec": {
   "display_name": "Python (Cloud)",
   "language": "python",
   "name": "cloud"
  },
  "language_info": {
   "codemirror_mode": {
    "name": "ipython",
    "version": 2
   },
   "file_extension": ".py",
   "mimetype": "text/x-python",
   "name": "python",
   "nbconvert_exporter": "python",
   "pygments_lexer": "ipython2",
   "version": "2.7.15"
  }
 },
 "nbformat": 4,
 "nbformat_minor": 2
}
