{
 "cells": [
  {
   "cell_type": "code",
   "execution_count": null,
   "metadata": {},
   "outputs": [],
   "source": [
    "from astropy.table import Table\n",
    "import scipy.spatial.distance as dist\n",
    "from astropy import units as u\n",
    "from astropy.cosmology import Planck15\n",
    "from astropy.io import fits\n",
    "import sptpol_software as sps\n",
    "from sptpol_software.util.tools import stat\n",
    "from sptpol_software.observation import *\n",
    "import sptpol_software.observation as obs\n",
    "import sptpol_software as sps\n",
    "import sptpol_software.observation.sky\n",
    "from sptpol_software.util import files\n",
    "import PIL\n",
    "from astropy import constants as ap_const\n",
    "import scipy.constants as const\n",
    "from scipy.integrate import quad\n",
    "import matplotlib.pyplot as plt\n",
    "import pandas as pd\n",
    "import glob\n",
    "import astropy as ap\n",
    "import scipy as sp\n",
    "import numpy as np\n",
    "import healpy as hp\n",
    "import os\n",
    "os.chdir(\"/home/mitchell/Documents/masters/masters/scripts/\")\n",
    "import cmb\n",
    "import galaxy_pairs\n",
    "#data_location = input(\"Enter Path Location of data\")\n",
    "os.chdir(\"/home/mitchell/Documents/masters/masters/data/simulated\")\n",
    "cwd = os.getcwd()\n",
    "\n",
    "import scipy.ndimage\n",
    "cosmo = Planck15\n"
   ]
  },
  {
   "cell_type": "code",
   "execution_count": null,
   "metadata": {},
   "outputs": [],
   "source": [
    "# tsz_150ghz = files.read(\"tsz150_R13.fits\"\n",
    "tsz_150ghz= hp.read_map(\"tsz150_R13.fits\")"
   ]
  },
  {
   "cell_type": "code",
   "execution_count": null,
   "metadata": {},
   "outputs": [],
   "source": [
    "hp.mollview(tsz_150ghz)"
   ]
  },
  {
   "cell_type": "code",
   "execution_count": null,
   "metadata": {},
   "outputs": [],
   "source": []
  }
 ],
 "metadata": {
  "kernelspec": {
   "display_name": "Python 2",
   "language": "python",
   "name": "python2"
  },
  "language_info": {
   "codemirror_mode": {
    "name": "ipython",
    "version": 2
   },
   "file_extension": ".py",
   "mimetype": "text/x-python",
   "name": "python",
   "nbconvert_exporter": "python",
   "pygments_lexer": "ipython2",
   "version": "2.7.15"
  }
 },
 "nbformat": 4,
 "nbformat_minor": 2
}
