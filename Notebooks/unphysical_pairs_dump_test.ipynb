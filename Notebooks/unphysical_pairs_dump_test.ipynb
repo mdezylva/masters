{
 "cells": [
  {
   "cell_type": "code",
   "execution_count": 6,
   "metadata": {},
   "outputs": [
    {
     "name": "stdout",
     "output_type": "stream",
     "text": [
      "pywtl packages could not be imported.  This may break plotting code.\n",
      "FlatLambdaCDM(name=\"Planck15\", H0=67.7 km / (Mpc s), Om0=0.307, Tcmb0=2.725 K, Neff=3.05, m_nu=[0.   0.   0.06] eV, Ob0=0.0486)\n"
     ]
    }
   ],
   "source": [
    "from astropy.table import Table\n",
    "import scipy.spatial.distance as dist\n",
    "from astropy import units as u\n",
    "from astropy.cosmology import Planck13\n",
    "from astropy.io import fits\n",
    "from astropy.coordinates import SkyCoord\n",
    "import sptpol_software as sps\n",
    "from sptpol_software.util.tools import stat\n",
    "from sptpol_software.observation import *\n",
    "import sptpol_software.observation as obs\n",
    "import sptpol_software as sps\n",
    "import sptpol_software.observation.sky\n",
    "from sptpol_software.util import files\n",
    "import PIL\n",
    "import pickle\n",
    "from astropy import constants as ap_const\n",
    "import scipy.constants as const\n",
    "from scipy.integrate import quad\n",
    "import matplotlib.pyplot as plt\n",
    "import pandas as pd\n",
    "import glob\n",
    "import astropy as ap\n",
    "import scipy as sp\n",
    "import numpy as np\n",
    "import os\n",
    "import time \n",
    "import pdb\n",
    "os.chdir(\"/home/mitchell/Documents/masters/masters/scripts/\")\n",
    "import cmb\n",
    "import galaxy_pairs\n",
    "#data_location = input(\"Enter Path Location of data\")\n",
    "os.chdir(\"/home/mitchell/Documents/masters/masters/data/\")\n",
    "cwd = os.getcwd()\n",
    "\n",
    "import scipy.ndimage\n",
    "cosmo = Planck13"
   ]
  },
  {
   "cell_type": "code",
   "execution_count": 7,
   "metadata": {},
   "outputs": [],
   "source": [
    "df = pd.read_pickle('DES_cat.pkl')\n"
   ]
  },
  {
   "cell_type": "code",
   "execution_count": 8,
   "metadata": {},
   "outputs": [
    {
     "name": "stdout",
     "output_type": "stream",
     "text": [
      "Computing Comoving Distances from Redshifts in Galaxy Catalogue ...\n"
     ]
    }
   ],
   "source": [
    "print(\"Computing Comoving Distances from Redshifts in Galaxy Catalogue ...\")\n",
    "start = time.time()\n",
    "df['COMOVING'] = pd.Series(\n",
    "    cosmo.comoving_distance(df['ZREDMAGIC']))\n",
    "df['COMOVING_E'] = pd.Series(\n",
    "    cosmo.comoving_distance(df['ZREDMAGIC_E']))"
   ]
  },
  {
   "cell_type": "code",
   "execution_count": 9,
   "metadata": {},
   "outputs": [],
   "source": [
    "norm_ra = []\n",
    "for i in range(len(df)):\n",
    "    norm_ra.append(galaxy_pairs.normalize(df['RA'][i],-180,180))\n",
    "df['NORM_RA'] = pd.Series(norm_ra)\n"
   ]
  },
  {
   "cell_type": "code",
   "execution_count": 10,
   "metadata": {},
   "outputs": [],
   "source": [
    "ra_range = np.array([-32,32])\n",
    "dec_range = np.array([-52,-67])\n"
   ]
  },
  {
   "cell_type": "code",
   "execution_count": 11,
   "metadata": {},
   "outputs": [],
   "source": [
    "cut_df = df[((df.DEC < dec_range[0]) & (df.DEC > dec_range[1]))\n",
    "            & ((df.NORM_RA > ra_range[0]) & (df.NORM_RA < ra_range[1]))]\n",
    "cut_df = cut_df.reset_index(drop=True)\n"
   ]
  },
  {
   "cell_type": "code",
   "execution_count": 12,
   "metadata": {},
   "outputs": [],
   "source": [
    "sky_locs = np.asarray([cut_df['NORM_RA'].as_matrix().T,cut_df['DEC'].as_matrix().T]).T\n",
    "\n",
    "frame_tree = scipy.spatial.cKDTree(sky_locs, leafsize=100)\n",
    "\n",
    "result_set = frame_tree.query_pairs(r=0.4)\n",
    "\n",
    "result_list = list(result_set)\n",
    "\n",
    "result_array = np.asarray(result_list)\n",
    "\n",
    "cut_pairs_df = pd.DataFrame(data=result_array,columns = ['galaxy_index_1','galaxy_index_2'])"
   ]
  },
  {
   "cell_type": "code",
   "execution_count": 13,
   "metadata": {},
   "outputs": [
    {
     "name": "stdout",
     "output_type": "stream",
     "text": [
      "Num of Pairs Produced on Footprint = 6021580\n"
     ]
    }
   ],
   "source": [
    "cut_pairs_df['galaxy_index_1'] = cut_pairs_df.galaxy_index_1.astype(int)\n",
    "cut_pairs_df['galaxy_index_2'] = cut_pairs_df.galaxy_index_2.astype(int)\n",
    "\n",
    "print(\"Num of Pairs Produced on Footprint = \" + str(len(cut_pairs_df)))"
   ]
  },
  {
   "cell_type": "code",
   "execution_count": 14,
   "metadata": {},
   "outputs": [],
   "source": [
    "gal_1_comov = cut_df['COMOVING'].iloc[cut_pairs_df['galaxy_index_1']]\n",
    "gal_2_comov = cut_df['COMOVING'].iloc[cut_pairs_df['galaxy_index_2']]\n",
    "comov_sep = pd.Series(abs(gal_1_comov.values - gal_2_comov.values))"
   ]
  },
  {
   "cell_type": "code",
   "execution_count": 15,
   "metadata": {},
   "outputs": [
    {
     "name": "stdout",
     "output_type": "stream",
     "text": [
      "Num of Pairs after LOS Cuts = 886848\n"
     ]
    }
   ],
   "source": [
    "cut_pairs_df['SEP_LOS'] = comov_sep\n",
    "\n",
    "\n",
    "min_los = 100/cosmo.h\n",
    "max_los = 200/cosmo.h\n",
    "\n",
    "\n",
    "cut_pairs_df = cut_pairs_df[(cut_pairs_df.SEP_LOS < max_los) & (cut_pairs_df.SEP_LOS > min_los)]\n",
    "\n",
    "cut_pairs_df = cut_pairs_df.reset_index()\n",
    "print(\"Num of Pairs after LOS Cuts = \" + str(len(cut_pairs_df)))"
   ]
  },
  {
   "cell_type": "code",
   "execution_count": null,
   "metadata": {},
   "outputs": [
    {
     "name": "stdout",
     "output_type": "stream",
     "text": [
      "Appending Redshifts of Pair to Dataframe...\n",
      "Done in 276.11403203 seconds\n",
      "Computing Average Redshift...\n",
      "Done in 0.352884054184 seconds\n",
      "Computing Transverse Comoving Distance at this redshift...\n",
      "Done in 12.0261898041 seconds\n",
      "Appending (RA,DEC) to Dataframe...\n",
      "Done in 1.45157408714 seconds\n",
      "Storing as Sky Coordinates...\n"
     ]
    }
   ],
   "source": [
    "gal_1_z = cut_df['ZREDMAGIC'].iloc[cut_pairs_df['galaxy_index_1']]\n",
    "gal_2_z = cut_df['ZREDMAGIC'].iloc[cut_pairs_df['galaxy_index_2']]\n",
    "\n",
    "print(\"Appending Redshifts of Pair to Dataframe...\")\n",
    "cut_pairs_df['Z1'] = pd.Series(gal_1_z.values)\n",
    "cut_pairs_df['Z2'] = pd.Series(gal_2_z.values)\n",
    "\n",
    "end = time.time()\n",
    "print(\"Done in \" + str(end-start) + \" seconds\")\n",
    "start = end\n",
    "\n",
    "print(\"Computing Average Redshift...\")\n",
    "avg_redshift = pd.Series(np.mean([gal_1_z,gal_2_z],axis=0))\n",
    "\n",
    "end = time.time()\n",
    "print(\"Done in \" + str(end-start) + \" seconds\")\n",
    "start = end\n",
    "\n",
    "print(\"Computing Transverse Comoving Distance at this redshift...\")\n",
    "transverse_comoving = cosmo.comoving_transverse_distance(avg_redshift)\n",
    "\n",
    "cut_pairs_df['COMOV_TRV'] = transverse_comoving\n",
    "\n",
    "end = time.time()\n",
    "print(\"Done in \" + str(end-start) + \" seconds\")\n",
    "start = end\n",
    "\n",
    "print(\"Appending (RA,DEC) to Dataframe...\")\n",
    "cut_pairs_df['RA_1'] = pd.Series(cut_df['RA'].iloc[cut_pairs_df['galaxy_index_1']].values)\n",
    "cut_pairs_df['RA_2'] = pd.Series(cut_df['RA'].iloc[cut_pairs_df['galaxy_index_2']].values)\n",
    "cut_pairs_df['DEC_1'] = pd.Series(cut_df['DEC'].iloc[cut_pairs_df['galaxy_index_1']].values)\n",
    "cut_pairs_df['DEC_2'] = pd.Series(cut_df['DEC'].iloc[cut_pairs_df['galaxy_index_2']].values)\n",
    "\n",
    "end = time.time()\n",
    "print(\"Done in \" + str(end-start) + \" seconds\")\n",
    "start = end\n",
    "\n",
    "print(\"Storing as Sky Coordinates...\")\n",
    "coord_1 = SkyCoord(ra= cut_pairs_df['RA_1']*u.degree,dec = cut_pairs_df['DEC_1']*u.degree)\n",
    "coord_2 = SkyCoord(ra= cut_pairs_df['RA_2']*u.degree,dec = cut_pairs_df['DEC_2']*u.degree)\n",
    "\n",
    "end = time.time()\n",
    "print(\"Done in \" + str(end-start) + \" seconds\")\n",
    "start = end\n"
   ]
  },
  {
   "cell_type": "code",
   "execution_count": null,
   "metadata": {},
   "outputs": [],
   "source": []
  }
 ],
 "metadata": {
  "kernelspec": {
   "display_name": "Python (Cloud_2)",
   "language": "python",
   "name": "cloud_2"
  },
  "language_info": {
   "codemirror_mode": {
    "name": "ipython",
    "version": 2
   },
   "file_extension": ".py",
   "mimetype": "text/x-python",
   "name": "python",
   "nbconvert_exporter": "python",
   "pygments_lexer": "ipython2",
   "version": "2.7.15"
  }
 },
 "nbformat": 4,
 "nbformat_minor": 2
}
