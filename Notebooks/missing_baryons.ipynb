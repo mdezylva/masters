{
 "cells": [
  {
   "cell_type": "code",
   "execution_count": 1,
   "metadata": {},
   "outputs": [],
   "source": [
    "import numpy as np\n",
    "import scipy as sp\n",
    "import astropy as ap\n",
    "\n",
    "import matplotlib.pyplot as plt\n",
    "from scipy.integrate import quad\n",
    "import scipy.constants as const\n",
    "from astropy import constants as ap_const\n",
    "import scipy.ndimage \n",
    "import PIL"
   ]
  },
  {
   "cell_type": "code",
   "execution_count": null,
   "metadata": {},
   "outputs": [],
   "source": []
  },
  {
   "cell_type": "code",
   "execution_count": 2,
   "metadata": {},
   "outputs": [],
   "source": [
    "h_0 = 67.66 #Hubble Const from Planck km s-1 Mpc-1\n",
    "c = 299792458 #Speed of Light m s-1\n",
    "h = 0.7 #Reduced Hubble Const\n",
    "om_k = 0 #Omega for Curvature\n",
    "om_m = 0.3 #Omega Matter\n",
    "om_lam = 0.7 #Omega Dark Energy\n",
    "om_r = 0.0 #Omega Radiation\n",
    "n = 1 \n",
    "sig_8 = 0.9\n",
    "G = 6.67e-11 # m3 kg-1 s-2\n",
    "d_h0 = c*10**(-3)/h_0 # Hubble dist at current time\n"
   ]
  },
  {
   "cell_type": "code",
   "execution_count": 4,
   "metadata": {},
   "outputs": [
    {
     "name": "stdout",
     "output_type": "stream",
     "text": [
      "FlatLambdaCDM(name=\"Planck15\", H0=67.7 km / (Mpc s), Om0=0.307, Tcmb0=2.725 K, Neff=3.05, m_nu=[0.   0.   0.06] eV, Ob0=0.0486)\n",
      "Bounds on Filaments from Literature using Spec-z: 8.571428571428571-20.0 Mpc\n",
      "Distance at which Halos are not correlated: 285.7142857142857 Mpc\n",
      "At 21.42857142857143 Mpc to 28.571428571428573 Mpc about 30 percent of pairs have filaments connecting them (Colberg et al 2005)\n"
     ]
    }
   ],
   "source": [
    "from astropy.cosmology import Planck15\n",
    "from astropy import units as u\n",
    "print(Planck15)\n",
    "cosmo= Planck15\n",
    "print(\"Bounds on Filaments from Literature using Spec-z: \" + str(6/h) + \"-\" + str(14/h)+ \" Mpc\")\n",
    "print(\"Distance at which Halos are not correlated: \" + str(200/h) + \" Mpc\")\n",
    "\n",
    "print(\"At \" + str(15/h) + \" Mpc to \" + str(20/h) + \" Mpc about 30 percent of pairs have filaments connecting them (Colberg et al 2005)\")"
   ]
  },
  {
   "cell_type": "markdown",
   "metadata": {},
   "source": [
    "# Need to find how the error in comoving distance scales with errors in redshift of \n",
    "$$ \\sigma_z = 0.01 (1+z) $$\n",
    "C.f with the scale of the halo distributions $\\sim 10 h^{-1} \\approx 14$Mpc \n",
    "## Comoving Distance \n",
    "Comoving Distance is given by \n",
    "$$D_C = D_H \\int_0^z \\frac{dz^\\prime}{E(z^\\prime)} $$\n",
    "Where \n",
    "$$ E(z) = \\sqrt{\\Omega_M (1+z)^3 + \\Omega_k (1+z)^2 + \\Omega_\\Lambda} $$\n",
    "$D_H$ is the Hubble Distance"
   ]
  },
  {
   "cell_type": "code",
   "execution_count": 5,
   "metadata": {},
   "outputs": [
    {
     "name": "stdout",
     "output_type": "stream",
     "text": [
      "[-44.15356625750087, -46.238379945319934, -47.82678980468779, -48.97294420611615, -49.73858163162731, -50.186269925775605, -50.37478892368836, -50.3565277301841, -50.17643866041044, -49.87202736952622, -49.47393723112509, -49.00680927455778, -48.49021451073213, -47.93954376822148]\n"
     ]
    }
   ],
   "source": [
    "z = np.arange(0,1.4,0.1)\n",
    "def E(z):\n",
    "    return((om_m*(1+z)**3 + om_k*(1+z)**2 + om_lam)**(-1))\n",
    "\n",
    "upper = 0.01*(1+z)+z\n",
    "\n",
    "D_C = [d_h0*quad(E,0,zed)[0] for zed in z]\n",
    "ap_comov1 = [cosmo.comoving_distance(zed).to_value(u.Mpc) for zed in z]\n",
    "ap_comov2 = [cosmo.comoving_distance(zed).to_value(u.Mpc) for zed in upper]\n",
    "\n",
    "\n",
    "\n",
    "#calc_error_comov = [d_h0*quad(E,0,zed)[0] for zed in error_z]\n",
    "#ap_error_comov = [cosmo.comoving_distance(zed).to_value(u.Mpc) for zed in error_z]\n",
    "\n",
    "\n",
    "#print([ap_comov[i]-D_C[i] for i in range(len(ap_error_comov))])\n",
    "print([ap_comov1[i]-ap_comov2[i] for i in range(len(ap_comov1))])\n",
    "#print(ap_error_comov)"
   ]
  },
  {
   "cell_type": "code",
   "execution_count": 8,
   "metadata": {},
   "outputs": [],
   "source": [
    "#fig, ax = plt.subplots(figsize=(8,6))\n",
    "#ax.plot(z,D_C,'b-',label='Comoving Distance from Calc')\n",
    "#ax.errorbar(z,ap_comov1,yerr=ap_error_comov,fmt='-o',label='Comoving Distance from Astropy')\n",
    "#ax.errorbar(z,D_C,yerr=calc_error_comov,fmt='-or',label='Comoving Distance from Calculation')\n",
    "#ax.plot(z,ap_comov,'r-',label='Comoving Distance from Astropy')\n",
    "#ax.set_xlabel('Redshift z')\n",
    "#ax.set_ylabel('Comoving Distance [Mpc]')\n",
    "#ax.legend(loc = 'upper right')\n"
   ]
  },
  {
   "cell_type": "code",
   "execution_count": 9,
   "metadata": {},
   "outputs": [],
   "source": [
    "#redshift_conv = np.stack((z,ap_comov,ap_error_comov))\n",
    "#print(redshift_conv)\n"
   ]
  },
  {
   "cell_type": "markdown",
   "metadata": {},
   "source": [
    "These errors seem large, especially for the line of sight considerations. I do wonder however, if the relative distances actually matter, since tSZ is sensetive to electron pressure along line of sight. "
   ]
  },
  {
   "cell_type": "markdown",
   "metadata": {},
   "source": [
    "# Need to estimate SZ signal from single galaxy pair, then scale appropriately\n",
    "\n",
    "## Compton y parameter of SZ is given by \n",
    "$$ y = \\frac{\\sigma_T k_B}{m_e c^2} \\int n_e T_e dl $$\n",
    "Where \n",
    "\\begin{align}\n",
    "\\sigma_T &= \\text{Thompson Cross Section} \\\\\n",
    "k_B &= \\text{Boltzmann Constant} \\\\\n",
    "m_e &= \\text{Electron Mass} \\\\\n",
    "c &= \\text{Speed of Light} \\\\\n",
    "n_e &= \\text{Electron Number Density} \\\\\n",
    "T_e &= \\text{Electron Temperature}\n",
    "\\end{align}\n",
    "\n",
    "When we consider the Comptonisation parameter as a geometrical projection of a density profile, this becomes \n",
    "$$ y(r_\\perp) = \\frac{\\sigma_T k_B T_e}{m_e c^2} \\int_{r_\\perp}^R \\frac{2 r n_e(r,z)}{\\sqrt{r^2 - r_\\perp^2}}dr $$\n",
    "\n",
    "Tanimura et al 2017 provided a fiducial form of this, provided the same methodology is utilised\n",
    "\n",
    "$$ \\bar{\\Delta y} = 4.9 * 10^{-8} * \\left( \\frac{\\delta_c}{10} \\right) \\left( \\frac{T_e}{10^7 \\text{K}} \\right) \\left( \\frac{r_c}{0.5 h^{-1} \\text{Mpc}}\\right)$$"
   ]
  },
  {
   "cell_type": "code",
   "execution_count": 10,
   "metadata": {},
   "outputs": [],
   "source": [
    "def y_prefac(T):\n",
    "    sig_t = const.physical_constants['Thomson cross section'][0]\n",
    "    k_b = const.k\n",
    "    m_e = const.electron_mass\n",
    "    c = const.c\n",
    "    \n",
    "    return((sig_t*k_b*T)/(m_e*c**2))\n",
    "\n",
    "def n_e(r,z,ver):\n",
    "    ## Need to select maximum electron density\n",
    "    ## Need to pick better filament width\n",
    "    n_0 = 0.001 #g cm^-3\n",
    "    r_c = 5 #Mpc\n",
    "    \n",
    "    n_0 = n_0/3.4e-74 ## Convert to g cm^-3 to g Mpc^-3\n",
    "    if ver==1:\n",
    "        return(n_0*r)\n",
    "    if ver==2:\n",
    "        return((n_0)/(np.sqrt(1+(r/r_c)**2)))\n",
    "    if ver==3:\n",
    "        return((n_0)/(1+(r/r_c)**2))\n",
    "\n",
    "def y_int(r,r_perp,z,ver):\n",
    "    return((2*r*n_e(r,z,ver))/(np.sqrt(r**2 - r_perp**2)))\n",
    "\n"
   ]
  },
  {
   "cell_type": "code",
   "execution_count": 11,
   "metadata": {},
   "outputs": [],
   "source": [
    "def y(r_perp,r,ver,T = 10**5, z = 1): \n",
    "    R = 5\n",
    "    integral = quad(y_int,r_perp,R,(r_perp,z,ver))[0]\n",
    "    return(y_prefac(T)*integral)\n",
    "\n",
    "def y_fiducial(r_crit,del_c,T = 10**5 ):\n",
    "    return(4.9e-8*(del_c/10)*(T/10**7)*(r_crit*h/0.5))"
   ]
  },
  {
   "cell_type": "code",
   "execution_count": 12,
   "metadata": {},
   "outputs": [],
   "source": [
    "#print(y(2/h,ap_comov[0],1,z=0))\n",
    "overdensities = np.arange(1,25,1) #Capped at 25 from Colberg et al 2015\n",
    "sz_y_rpt5 = [y_fiducial(0.5/h,del_c) for del_c in overdensities]\n",
    "sz_y_r1 = [y_fiducial(1/h,del_c) for del_c in overdensities]\n",
    "sz_y_r2 = [y_fiducial(2/h,del_c) for del_c in overdensities]\n",
    "sz_y_r5 = [y_fiducial(5/h,del_c) for del_c in overdensities]\n",
    "sz_y_r10 = [y_fiducial(10,del_c) for del_c in overdensities]\n"
   ]
  },
  {
   "cell_type": "code",
   "execution_count": 13,
   "metadata": {},
   "outputs": [
    {
     "data": {
      "text/plain": [
       "<matplotlib.legend.Legend at 0x7f047b8e22e8>"
      ]
     },
     "execution_count": 13,
     "metadata": {},
     "output_type": "execute_result"
    },
    {
     "data": {
      "image/png": "[encoded data removed]",
      "text/plain": [
       "<Figure size 576x432 with 1 Axes>"
      ]
     },
     "metadata": {},
     "output_type": "display_data"
    }
   ],
   "source": [
    "fig, ax = plt.subplots(figsize=(8,6))\n",
    "#ax.plot(z,D_C,'b-',label='Comoving Distance from Calc')\n",
    "ax.plot(overdensities,sz_y_rpt5,'k-',label='r = 0.5')\n",
    "ax.plot(overdensities,sz_y_r1,'b-',label='$r_c = 1$')\n",
    "ax.plot(overdensities,sz_y_r2,'g-',label='$r_c = 2$')\n",
    "ax.plot(overdensities,sz_y_r5,'y-',label='$r_c = 5$')\n",
    "#ax.plot(overdensities,sz_y_r10,'r-',label='r = 10 ')\n",
    "\n",
    "#ax.plot(z,ap_comov,'r-',label='Comoving Distance from Astropy')\n",
    "ax.set_xlabel('Overdensity')\n",
    "ax.set_ylabel('y Parameter of 1 Galaxy pair')\n",
    "ax.legend(loc = 'upper left')\n"
   ]
  },
  {
   "cell_type": "markdown",
   "metadata": {},
   "source": []
  },
  {
   "cell_type": "markdown",
   "metadata": {},
   "source": [
    "### Need to find method of rotating array for stacking purposes"
   ]
  },
  {
   "cell_type": "code",
   "execution_count": 14,
   "metadata": {},
   "outputs": [
    {
     "data": {
      "image/png": "[encoded data removed]",
      "text/plain": [
       "<Figure size 432x288 with 1 Axes>"
      ]
     },
     "metadata": {},
     "output_type": "display_data"
    },
    {
     "name": "stdout",
     "output_type": "stream",
     "text": [
      "Rotation by 45 degrees\n"
     ]
    },
    {
     "data": {
      "image/png": "[encoded data removed]",
      "text/plain": [
       "<Figure size 432x288 with 1 Axes>"
      ]
     },
     "metadata": {},
     "output_type": "display_data"
    },
    {
     "name": "stdout",
     "output_type": "stream",
     "text": [
      "Rotation by 55 degrees\n",
      "[[0 0 0 0 1 0]\n",
      " [0 0 0 1 1 1]\n",
      " [0 1 0 0 1 0]\n",
      " [1 1 1 0 0 0]\n",
      " [0 1 0 0 0 0]\n",
      " [0 0 0 0 0 0]]\n"
     ]
    },
    {
     "data": {
      "text/plain": [
       "<matplotlib.image.AxesImage at 0x7f047b804278>"
      ]
     },
     "execution_count": 14,
     "metadata": {},
     "output_type": "execute_result"
    },
    {
     "data": {
      "image/png": "[encoded data removed]",
      "text/plain": [
       "<Figure size 432x288 with 1 Axes>"
      ]
     },
     "metadata": {},
     "output_type": "display_data"
    }
   ],
   "source": [
    "#Need to learn how to rotate array\n",
    "\n",
    "matr_1= [[0, 1, 0, 0, 0, 0],\n",
    "        [1, 1, 1, 0, 0, 0],\n",
    "        [0, 1, 0, 0, 0, 0],\n",
    "        [0, 0, 0, 0, 1, 0],\n",
    "        [0, 0, 0, 1, 1, 1],\n",
    "        [0, 0, 0, 0, 1, 0]]\n",
    "\n",
    "matr_2= [[0, 0, 1, 0, 0, 0],\n",
    "        [0, 1, 1, 1, 0, 0],\n",
    "        [0, 0, 1, 0, 0, 0],\n",
    "        [0, 0, 0, 0, 1, 0],\n",
    "        [0, 0, 0, 1, 1, 1],\n",
    "        [0, 0, 0, 0, 1, 0]]\n",
    "\n",
    "plt.imshow(matr_1)\n",
    "plt.show()\n",
    "print(\"Rotation by 45 degrees\")\n",
    "#print(sp.ndimage.rotate(matr_1, 45, reshape=False))\n",
    "plt.imshow(sp.ndimage.rotate(matr_1,45,reshape=False))\n",
    "plt.show()\n",
    "print(\"Rotation by 55 degrees\")\n",
    "print(sp.ndimage.rotate(matr_2, 90, reshape=False))\n",
    "plt.imshow(sp.ndimage.rotate(matr_1,90,reshape=False))\n"
   ]
  },
  {
   "cell_type": "code",
   "execution_count": 15,
   "metadata": {},
   "outputs": [
    {
     "name": "stdout",
     "output_type": "stream",
     "text": [
      "Original Matrix\n",
      "Original Dimension = (6, 6)\n"
     ]
    },
    {
     "data": {
      "image/png": "[encoded data removed]",
      "text/plain": [
       "<Figure size 432x288 with 1 Axes>"
      ]
     },
     "metadata": {},
     "output_type": "display_data"
    },
    {
     "name": "stdout",
     "output_type": "stream",
     "text": [
      "Rotated Matrix\n",
      "Rotated Dimension = (8, 8)\n"
     ]
    },
    {
     "data": {
      "image/png": "[encoded data removed]",
      "text/plain": [
       "<Figure size 432x288 with 1 Axes>"
      ]
     },
     "metadata": {},
     "output_type": "display_data"
    }
   ],
   "source": [
    "rand_matr = np.random.rand(6,6)\n",
    "print(\"Original Matrix\")\n",
    "print(\"Original Dimension = \" + str(np.shape(rand_matr)))\n",
    "#print(rand_matr)\n",
    "plt.imshow(rand_matr)\n",
    "plt.show()\n",
    "print(\"Rotated Matrix\")\n",
    "rot_matr = sp.ndimage.rotate(rand_matr, 45, reshape=True)\n",
    "print(\"Rotated Dimension = \"+ str(np.shape(rot_matr)))\n",
    "#print(rot_matr)\n",
    "plt.imshow(rot_matr)\n",
    "plt.show()"
   ]
  },
  {
   "cell_type": "markdown",
   "metadata": {},
   "source": [
    "Can use the above method to rotate matrix, but there is some loss of information, so must ensure this doesn't affect the calculation too much\n"
   ]
  },
  {
   "cell_type": "markdown",
   "metadata": {},
   "source": [
    "# Need to Consider Galaxy Selection Criteria\n",
    "## LRG Criteria from Literature\n",
    "1709.05024\n",
    "\n",
    "LRG Paper Selects $M_\\star>10^{11.3} M_\\odot$ and reject satellite LRGs by discounting them if there is a more massive LRG within $1 h^-1 $Mpc and within radial velocity dist $|c \\Delta z | < 1000 $km/s\n",
    "\n",
    "LRG Pairs are chosen by finding all neighboring pairs of LRG's within $6-10 h^-1$ Mpc tangential distance, and within a proper radial distance of $\\pm 6 h^-1$ Mpc\n",
    "\n",
    "262,864 LRG Pairs out to $z\\approx 0.4$\n",
    "\n",
    "## Galaxy Selection from Literature\n",
    "1709.10378v2\n",
    "\n",
    "Using CMASS Galaxy Catalogue from SDSS DR12, galaxies were selected so that they are separated by up to $>20 h^-1$ Mpc\n",
    "\n",
    "Projected Separation of $6-14 h^-1$ Mpc and line of sight separation of $>5 h^-1$ Mpc\n",
    "\n",
    "~1,000,000 Galaxy Pairs found with mean separation $10 h^-1$ Mpc, which puts it well beyond host DM halo\n",
    "\n"
   ]
  },
  {
   "cell_type": "code",
   "execution_count": null,
   "metadata": {},
   "outputs": [],
   "source": []
  },
  {
   "cell_type": "markdown",
   "metadata": {},
   "source": [
    "Might want to consider developing a class to make processing easier\n"
   ]
  },
  {
   "cell_type": "code",
   "execution_count": null,
   "metadata": {},
   "outputs": [],
   "source": []
  },
  {
   "cell_type": "markdown",
   "metadata": {},
   "source": [
    "Looking into things, it appears that they use the target locations in from the Catalogues, and the stacking method to characterise the filament structure from the y-map. Need to normalise the projected length, to make the stacking effective, and null shear effects away. Unsure if we can use photo-z instead of spectral-z for this, and how the noise statistics change for either. "
   ]
  },
  {
   "cell_type": "markdown",
   "metadata": {},
   "source": [
    "Log on to Cloud\n",
    "\n",
    "Get the 500d maps from SptPol \n",
    "\n",
    "\n",
    "Read in 2 Coadds\n",
    "\n",
    "\n",
    "Frequency Difference (Use SZ frequency scaling to get y only)\n",
    "\n",
    "\n",
    "Rejects things close to known point sources (Make Cuts) Build in Asserts for don't use \n",
    "\n",
    "\n",
    "Get PSD/Noise Realisations\n",
    "\n",
    "\n",
    "Gets random positions \n",
    "\n",
    "\n",
    "Apply to DES Sample"
   ]
  },
  {
   "cell_type": "code",
   "execution_count": 16,
   "metadata": {},
   "outputs": [
    {
     "ename": "ModuleNotFoundError",
     "evalue": "No module named 'constants'",
     "output_type": "error",
     "traceback": [
      "\u001b[0;31m---------------------------------------------------------------------------\u001b[0m",
      "\u001b[0;31mModuleNotFoundError\u001b[0m                       Traceback (most recent call last)",
      "\u001b[0;32m<ipython-input-16-3e46195108c3>\u001b[0m in \u001b[0;36m<module>\u001b[0;34m()\u001b[0m\n\u001b[0;32m----> 1\u001b[0;31m \u001b[0;32mimport\u001b[0m \u001b[0msptpol_software\u001b[0m\u001b[0;34m\u001b[0m\u001b[0;34m\u001b[0m\u001b[0m\n\u001b[0m",
      "\u001b[0;32m~/Software/SPT/sptpol_software/__init__.py\u001b[0m in \u001b[0;36m<module>\u001b[0;34m()\u001b[0m\n\u001b[1;32m     32\u001b[0m \u001b[0;34m\u001b[0m\u001b[0m\n\u001b[1;32m     33\u001b[0m \u001b[0;31m# Pull the variables from the \"constants\" module into this scope.\u001b[0m\u001b[0;34m\u001b[0m\u001b[0;34m\u001b[0m\u001b[0;34m\u001b[0m\u001b[0m\n\u001b[0;32m---> 34\u001b[0;31m \u001b[0;32mfrom\u001b[0m \u001b[0mconstants\u001b[0m \u001b[0;32mimport\u001b[0m \u001b[0;34m*\u001b[0m\u001b[0;34m\u001b[0m\u001b[0;34m\u001b[0m\u001b[0m\n\u001b[0m\u001b[1;32m     35\u001b[0m \u001b[0;34m\u001b[0m\u001b[0m\n\u001b[1;32m     36\u001b[0m \u001b[0;31m# Define the size that we want to use for our float variables.\u001b[0m\u001b[0;34m\u001b[0m\u001b[0;34m\u001b[0m\u001b[0;34m\u001b[0m\u001b[0m\n",
      "\u001b[0;31mModuleNotFoundError\u001b[0m: No module named 'constants'"
     ]
    }
   ],
   "source": [
    "import sptpol_software"
   ]
  },
  {
   "cell_type": "code",
   "execution_count": null,
   "metadata": {},
   "outputs": [],
   "source": []
  }
 ],
 "metadata": {
  "kernelspec": {
   "display_name": "Python 3",
   "language": "python",
   "name": "python3"
  },
  "language_info": {
   "codemirror_mode": {
    "name": "ipython",
    "version": 3
   },
   "file_extension": ".py",
   "mimetype": "text/x-python",
   "name": "python",
   "nbconvert_exporter": "python",
   "pygments_lexer": "ipython3",
   "version": "3.6.7"
  }
 },
 "nbformat": 4,
 "nbformat_minor": 2
}
