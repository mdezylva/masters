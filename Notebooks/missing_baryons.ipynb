{
 "cells": [
  {
   "cell_type": "code",
   "execution_count": 1,
   "metadata": {},
   "outputs": [],
   "source": [
    "import numpy as np\n",
    "import scipy as sp\n",
    "import astropy as ap\n",
    "\n",
    "import matplotlib.pyplot as plt\n",
    "from scipy.integrate import quad\n",
    "import scipy.constants as const\n",
    "from astropy import constants as ap_const\n",
    "import scipy.ndimage \n",
    "import PIL"
   ]
  },
  {
   "cell_type": "code",
   "execution_count": 2,
   "metadata": {},
   "outputs": [],
   "source": [
    "h_0 = 67.66 #Hubble Const from Planck km s-1 Mpc-1\n",
    "c = 299792458 #Speed of Light m s-1\n",
    "h = 0.7 #Reduced Hubble Const\n",
    "om_k = 0 #Omega for Curvature\n",
    "om_m = 0.3 #Omega Matter\n",
    "om_lam = 0.7 #Omega Dark Energy\n",
    "om_r = 0.0 #Omega Radiation\n",
    "n = 1 \n",
    "sig_8 = 0.9\n",
    "G = 6.67e-11 # m3 kg-1 s-2\n",
    "d_h0 = c*10**(-3)/h_0 # Hubble dist at current time\n"
   ]
  },
  {
   "cell_type": "code",
   "execution_count": 3,
   "metadata": {},
   "outputs": [
    {
     "name": "stdout",
     "output_type": "stream",
     "text": [
      "FlatLambdaCDM(name=\"Planck15\", H0=67.7 km / (Mpc s), Om0=0.307, Tcmb0=2.725 K, Neff=3.05, m_nu=[0.   0.   0.06] eV, Ob0=0.0486)\n",
      "Upper bound on Filaments from Literature using Spec-z: 14.285714285714286 Mpc\n",
      "Distance at which Halos are not correlated: 285.7142857142857 Mpc\n"
     ]
    }
   ],
   "source": [
    "from astropy.cosmology import Planck15\n",
    "from astropy import units as u\n",
    "print(Planck15)\n",
    "cosmo= Planck15\n",
    "print(\"Upper bound on Filaments from Literature using Spec-z: \"  + str(10/h)+ \" Mpc\")\n",
    "print(\"Distance at which Halos are not correlated: \" + str(200/h) + \" Mpc\")"
   ]
  },
  {
   "cell_type": "markdown",
   "metadata": {},
   "source": [
    "# Need to find how the error in comoving distance scales with errors in redshift of \n",
    "$$ \\sigma_z = 0.01 (1+z) $$\n",
    "C.f with the scale of the halo distributions $\\sim 10 h^{-1} \\approx 14$Mpc \n",
    "## Comoving Distance \n",
    "Comoving Distance is given by \n",
    "$$D_C = D_H \\int_0^z \\frac{dz^\\prime}{E(z^\\prime)} $$\n",
    "Where \n",
    "$$ E(z) = \\sqrt{\\Omega_M (1+z)^3 + \\Omega_k (1+z)^2 + \\Omega_\\Lambda} $$\n",
    "$D_H$ is the Hubble Distance"
   ]
  },
  {
   "cell_type": "code",
   "execution_count": 18,
   "metadata": {},
   "outputs": [
    {
     "name": "stdout",
     "output_type": "stream",
     "text": [
      "[0.0, 9.045992724397536, 36.512895820337576, 80.8355455283156, 140.00226627833604, 211.79312144689538, 293.9716106258179, 384.4191259731533, 481.21596320380695, 582.6797523847772, 687.3737783340648, 794.0962489248473, 901.8590217338779, 1009.8617109110114, 1117.4649506003984, 1224.1650070841301, 1329.5708540750888, 1433.3841413633045, 1535.382082298309, 1635.4030669075428]\n",
      "[0.044412141952527406, 0.05948464206628756, 0.0764879854888818, 0.09542161308613828, 0.11628495664223237, 0.1390774388793119, 0.1637984734773994, 0.19044746509418076, 0.2190238093850354, 0.24952689302314468, 0.2819560937195007, 0.31631078024342685, 0.3525903124426577, 0.3907940412641153, 0.43092130877398915, 0.4729714481788818, 0.5169437838462017, 0.5628376313250385, 0.6106522973671105, 0.6603870799477676]\n"
     ]
    }
   ],
   "source": [
    "z = np.arange(0,2,0.1)\n",
    "def E(z):\n",
    "    return((om_m*(1+z)**3 + om_k*(1+z)**2 + om_lam)**(-1))\n",
    "\n",
    "D_C = [d_h0*quad(E,0,zed)[0] for zed in z]\n",
    "ap_comov = [cosmo.comoving_distance(zed).to_value(u.Mpc) for zed in z]\n",
    "\n",
    "error_z = 0.01*(1+z)\n",
    "\n",
    "calc_error_comov = [d_h0*quad(E,0,zed)[0] for zed in error_z]\n",
    "ap_error_comov = [cosmo.comoving_distance(zed).to_value(u.Mpc) for zed in error_z]\n",
    "\n",
    "\n",
    "print([ap_comov[i]-D_C[i] for i in range(len(ap_error_comov))])\n",
    "print([ap_error_comov[i]-calc_error_comov[i] for i in range(len(ap_error_comov))])\n"
   ]
  },
  {
   "cell_type": "code",
   "execution_count": 14,
   "metadata": {},
   "outputs": [
    {
     "data": {
      "text/plain": [
       "<matplotlib.legend.Legend at 0x7efcf74470b8>"
      ]
     },
     "execution_count": 14,
     "metadata": {},
     "output_type": "execute_result"
    },
    {
     "data": {
      "image/png": "[encoded data removed]",
      "text/plain": [
       "<Figure size 576x432 with 1 Axes>"
      ]
     },
     "metadata": {},
     "output_type": "display_data"
    }
   ],
   "source": [
    "fig, ax = plt.subplots(figsize=(8,6))\n",
    "#ax.plot(z,D_C,'b-',label='Comoving Distance from Calc')\n",
    "ax.errorbar(z,ap_comov,yerr=ap_error_comov,fmt='-o',label='Comoving Distance from Astropy')\n",
    "ax.errorbar(z,D_C,yerr=calc_error_comov,fmt='-or',label='Comoving Distance from Calculation')\n",
    "#ax.plot(z,ap_comov,'r-',label='Comoving Distance from Astropy')\n",
    "ax.set_xlabel('Redshift z')\n",
    "ax.set_ylabel('Comoving Distance [Mpc]')\n",
    "ax.legend(loc = 'upper right')\n"
   ]
  },
  {
   "cell_type": "code",
   "execution_count": 19,
   "metadata": {},
   "outputs": [
    {
     "name": "stdout",
     "output_type": "stream",
     "text": [
      "[[0.00000000e+00 1.00000000e-01 2.00000000e-01 3.00000000e-01\n",
      "  4.00000000e-01 5.00000000e-01 6.00000000e-01 7.00000000e-01\n",
      "  8.00000000e-01 9.00000000e-01 1.00000000e+00 1.10000000e+00\n",
      "  1.20000000e+00 1.30000000e+00 1.40000000e+00 1.50000000e+00\n",
      "  1.60000000e+00 1.70000000e+00 1.80000000e+00 1.90000000e+00]\n",
      " [0.00000000e+00 4.32124490e+02 8.42849720e+02 1.23182753e+03\n",
      "  1.59921411e+03 1.94556130e+03 2.27170579e+03 2.57866992e+03\n",
      "  2.86757999e+03 3.13960379e+03 3.39590542e+03 3.63761460e+03\n",
      "  3.86580728e+03 4.08149448e+03 4.28561722e+03 4.47904536e+03\n",
      "  4.66257915e+03 4.83695239e+03 5.00283652e+03 5.16084517e+03]\n",
      " [4.41535663e+01 4.85575930e+01 5.29595551e+01 5.73594512e+01\n",
      "  6.17572801e+01 6.61530408e+01 7.05467321e+01 7.49383528e+01\n",
      "  7.93279017e+01 8.37153778e+01 8.81007799e+01 9.24841068e+01\n",
      "  9.68653576e+01 1.01244531e+02 1.05621626e+02 1.09996641e+02\n",
      "  1.14369576e+02 1.18740429e+02 1.23109199e+02 1.27475885e+02]]\n"
     ]
    }
   ],
   "source": [
    "redshift_conv = np.stack((z,ap_comov,error_comov))\n",
    "print(redshift_conv)\n"
   ]
  },
  {
   "cell_type": "markdown",
   "metadata": {},
   "source": [
    "These errors seem large, especially for the line of sight considerations. I do wonder however, if the relative distances actually matter, since tSZ is sensetive to electron pressure along line of sight. "
   ]
  },
  {
   "cell_type": "markdown",
   "metadata": {},
   "source": [
    "# Need to estimate SZ signal from single galaxy pair, then scale appropriately\n",
    "\n",
    "## Compton y parameter of SZ is given by \n",
    "$$ y = \\frac{\\sigma_T k_B}{m_e c^2} \\int n_e T_e dl $$\n",
    "Where \n",
    "\\begin{align}\n",
    "\\sigma_T &= \\text{Thompson Cross Section} \\\\\n",
    "k_B &= \\text{Boltzmann Constant} \\\\\n",
    "m_e &= \\text{Electron Mass} \\\\\n",
    "c &= \\text{Speed of Light} \\\\\n",
    "n_e &= \\text{Electron Number Density} \\\\\n",
    "T_e &= \\text{Electron Temperature}\n",
    "\\end{align}\n",
    "\n",
    "When we consider the Comptonisation parameter as a geometrical projection of a density profile, this becomes \n",
    "$$ y(r_\\perp) = \\frac{\\sigma_T k_B T_e}{m_e c^2} \\int_{r_\\perp}^R \\frac{2 r n_e(r,z)}{\\sqrt{r^2 - r_\\perp^2}}dr $$"
   ]
  },
  {
   "cell_type": "code",
   "execution_count": 28,
   "metadata": {},
   "outputs": [],
   "source": [
    "def y_prefac(T):\n",
    "    sig_t = const.physical_constants['Thomson cross section'][0]\n",
    "    k_b = const.k\n",
    "    m_e = const.electron_mass\n",
    "    c = const.c\n",
    "    \n",
    "    return((sig_t*k_b*T)/(m_e*c**2))\n",
    "\n",
    "def n_e(r,z,ver):\n",
    "    ## Need to select maximum electron density\n",
    "    ## Need to pick better filament width\n",
    "    n_0 = 0.001 #g cm^-3\n",
    "    r_c = 5 #Mpc\n",
    "    \n",
    "    n_0 = n_0/3.4e-74 ## Convert to g cm^-3 to g Mpc^-3\n",
    "    if ver==1:\n",
    "        return(n_0*r)\n",
    "    if ver==2:\n",
    "        return((n_0)/(np.sqrt(1+(r/r_c)**2)))\n",
    "    if ver==3:\n",
    "        return((n_0)/(1+(r/r_c)**2))\n",
    "\n",
    "def y_int(r,r_perp,z,ver):\n",
    "    return((2*r*n_e(r,z,ver))/(np.sqrt(r**2 - r_perp**2)))\n",
    "\n"
   ]
  },
  {
   "cell_type": "code",
   "execution_count": 29,
   "metadata": {},
   "outputs": [],
   "source": [
    "def y(r_perp,r,ver,T = 10**5, z = 1): \n",
    "    R = 5\n",
    "    integral = quad(y_int,r_perp,R,(r_perp,z,ver))[0]\n",
    "    return(y_prefac(T)*integral)\n",
    "\n",
    "def y_scalable(r_crit,del_c,T = 10**5 ):\n",
    "    return(4.9e-8*(del_c/10)*(T/10**7)*(r_crit*h/0.5))"
   ]
  },
  {
   "cell_type": "code",
   "execution_count": 46,
   "metadata": {},
   "outputs": [
    {
     "name": "stdout",
     "output_type": "stream",
     "text": [
      "9.890751174484234e+38\n",
      "[5.796699999999999e-10, 9.226700000000001e-10, 1.2656700000000002e-09, 1.60867e-09, 1.9516699999999997e-09, 2.2946700000000003e-09, 2.63767e-09, 2.9806700000000002e-09, 3.3236700000000004e-09, 3.6666699999999997e-09, 4.00967e-09, 4.35267e-09, 4.69567e-09, 5.03867e-09, 5.38167e-09, 5.724670000000001e-09, 6.067670000000001e-09, 6.410670000000001e-09, 6.753670000000001e-09, 7.0966700000000005e-09, 7.4396700000000015e-09, 7.782670000000002e-09, 8.125670000000002e-09, 8.468670000000002e-09, 8.81167e-09, 9.15467e-09, 9.49767e-09, 9.840670000000001e-09, 1.0183670000000001e-08, 1.052667e-08, 1.086967e-08, 1.121267e-08, 1.155567e-08, 1.189867e-08, 1.2241670000000002e-08, 1.2584669999999999e-08, 1.2927669999999999e-08, 1.3270670000000003e-08, 1.361367e-08, 1.3956670000000001e-08, 1.429967e-08, 1.4642670000000003e-08, 1.498567e-08, 1.532867e-08, 1.567167e-08, 1.601467e-08, 1.635767e-08, 1.670067e-08, 1.7043669999999998e-08, 1.7386670000000003e-08, 1.7729669999999998e-08, 1.807267e-08, 1.841567e-08, 1.8758669999999997e-08, 1.9101670000000002e-08, 1.9444670000000004e-08, 1.978767e-08, 2.013067e-08, 2.0473669999999996e-08, 2.081667e-08, 2.1159670000000003e-08, 2.1502669999999998e-08, 2.184567e-08, 2.2188670000000002e-08, 2.253167e-08, 2.2874670000000002e-08, 2.3217670000000004e-08, 2.356067e-08, 2.390367e-08, 2.4246670000000003e-08, 2.458967e-08, 2.4932670000000003e-08, 2.527567e-08, 2.561867e-08, 2.5961670000000002e-08, 2.6304670000000004e-08, 2.6647670000000002e-08, 2.6990670000000004e-08, 2.733367e-08, 2.767667e-08, 2.8019670000000006e-08, 2.836267e-08, 2.8705670000000003e-08, 2.9048669999999998e-08, 2.939167e-08, 2.9734670000000005e-08, 3.007767e-08, 3.042067e-08, 3.076367e-08, 3.1106669999999996e-08, 3.144967000000001e-08, 3.179267e-08, 3.213567e-08, 3.2478669999999997e-08, 3.2821669999999995e-08, 3.316467000000001e-08, 3.3507670000000005e-08, 3.385067e-08, 3.4193669999999996e-08]\n"
     ]
    }
   ],
   "source": [
    "print(y(2/h,ap_comov[0],1,z=0))\n",
    "overdensities = np.arange(1.69,100,1)\n",
    "sz_ys = [y_scalable(5,del_c) for del_c in overdensities]\n",
    "print(sz_ys)"
   ]
  },
  {
   "cell_type": "markdown",
   "metadata": {},
   "source": [
    "This is very high! Too high, entirely"
   ]
  },
  {
   "cell_type": "markdown",
   "metadata": {},
   "source": [
    "### Need to find method of rotating array for stacking purposes"
   ]
  },
  {
   "cell_type": "code",
   "execution_count": 10,
   "metadata": {},
   "outputs": [
    {
     "data": {
      "image/png": "[encoded data removed]",
      "text/plain": [
       "<Figure size 432x288 with 1 Axes>"
      ]
     },
     "metadata": {
      "needs_background": "light"
     },
     "output_type": "display_data"
    },
    {
     "name": "stdout",
     "output_type": "stream",
     "text": [
      "Rotation by 45 degrees\n"
     ]
    },
    {
     "data": {
      "image/png": "[encoded data removed]",
      "text/plain": [
       "<Figure size 432x288 with 1 Axes>"
      ]
     },
     "metadata": {
      "needs_background": "light"
     },
     "output_type": "display_data"
    },
    {
     "name": "stdout",
     "output_type": "stream",
     "text": [
      "Rotation by 55 degrees\n",
      "[[0 0 0 0 1 0]\n",
      " [0 0 0 1 1 1]\n",
      " [0 1 0 0 1 0]\n",
      " [1 1 1 0 0 0]\n",
      " [0 1 0 0 0 0]\n",
      " [0 0 0 0 0 0]]\n"
     ]
    },
    {
     "data": {
      "text/plain": [
       "<matplotlib.image.AxesImage at 0xa4c8e10>"
      ]
     },
     "execution_count": 10,
     "metadata": {},
     "output_type": "execute_result"
    },
    {
     "data": {
      "image/png": "[encoded data removed]",
      "text/plain": [
       "<Figure size 432x288 with 1 Axes>"
      ]
     },
     "metadata": {
      "needs_background": "light"
     },
     "output_type": "display_data"
    }
   ],
   "source": [
    "#Need to learn how to rotate array\n",
    "\n",
    "matr_1= [[0, 1, 0, 0, 0, 0],\n",
    "        [1, 1, 1, 0, 0, 0],\n",
    "        [0, 1, 0, 0, 0, 0],\n",
    "        [0, 0, 0, 0, 1, 0],\n",
    "        [0, 0, 0, 1, 1, 1],\n",
    "        [0, 0, 0, 0, 1, 0]]\n",
    "\n",
    "matr_2= [[0, 0, 1, 0, 0, 0],\n",
    "        [0, 1, 1, 1, 0, 0],\n",
    "        [0, 0, 1, 0, 0, 0],\n",
    "        [0, 0, 0, 0, 1, 0],\n",
    "        [0, 0, 0, 1, 1, 1],\n",
    "        [0, 0, 0, 0, 1, 0]]\n",
    "\n",
    "plt.imshow(matr_1)\n",
    "plt.show()\n",
    "print(\"Rotation by 45 degrees\")\n",
    "#print(sp.ndimage.rotate(matr_1, 45, reshape=False))\n",
    "plt.imshow(sp.ndimage.rotate(matr_1,45,reshape=False))\n",
    "plt.show()\n",
    "print(\"Rotation by 55 degrees\")\n",
    "print(sp.ndimage.rotate(matr_2, 90, reshape=False))\n",
    "plt.imshow(sp.ndimage.rotate(matr_1,90,reshape=False))\n"
   ]
  },
  {
   "cell_type": "code",
   "execution_count": 11,
   "metadata": {},
   "outputs": [
    {
     "name": "stdout",
     "output_type": "stream",
     "text": [
      "Original Matrix\n",
      "Original Dimension = (6, 6)\n"
     ]
    },
    {
     "data": {
      "image/png": "[encoded data removed]",
      "text/plain": [
       "<Figure size 432x288 with 1 Axes>"
      ]
     },
     "metadata": {
      "needs_background": "light"
     },
     "output_type": "display_data"
    },
    {
     "name": "stdout",
     "output_type": "stream",
     "text": [
      "Rotated Matrix\n",
      "Rotated Dimension = (8, 8)\n"
     ]
    },
    {
     "data": {
      "image/png": "[encoded data removed]",
      "text/plain": [
       "<Figure size 432x288 with 1 Axes>"
      ]
     },
     "metadata": {
      "needs_background": "light"
     },
     "output_type": "display_data"
    }
   ],
   "source": [
    "rand_matr = np.random.rand(6,6)\n",
    "print(\"Original Matrix\")\n",
    "print(\"Original Dimension = \" + str(np.shape(rand_matr)))\n",
    "#print(rand_matr)\n",
    "plt.imshow(rand_matr)\n",
    "plt.show()\n",
    "print(\"Rotated Matrix\")\n",
    "rot_matr = sp.ndimage.rotate(rand_matr, 45, reshape=True)\n",
    "print(\"Rotated Dimension = \"+ str(np.shape(rot_matr)))\n",
    "#print(rot_matr)\n",
    "plt.imshow(rot_matr)\n",
    "plt.show()"
   ]
  },
  {
   "cell_type": "markdown",
   "metadata": {},
   "source": [
    "Can use the above method to rotate matrix, but there is some loss of information, so must ensure this doesn't affect the calculation too much\n"
   ]
  },
  {
   "cell_type": "markdown",
   "metadata": {},
   "source": [
    "# Need to Consider Galaxy Selection Criteria\n",
    "## LRG Criteria from Literature\n",
    "1709.05024\n",
    "\n",
    "LRG Paper Selects $M_\\star>10^{11.3} M_\\odot$ and reject satellite LRGs by discounting them if there is a more massive LRG within $1 h^-1 $Mpc and within radial velocity dist $|c \\Delta z | < 1000 $km/s\n",
    "\n",
    "LRG Pairs are chosen by finding all neighboring pairs of LRG's within $6-10 h^-1$ Mpc tangential distance, and within a proper radial distance of $\\pm 6 h^-1$ Mpc\n",
    "\n",
    "262,864 LRG Pairs out to $z\\approx 0.4$\n",
    "\n",
    "## Galaxy Selection from Literature\n",
    "1709.10378v2\n",
    "\n",
    "Using CMASS Galaxy Catalogue from SDSS DR12, galaxies were selected so that they are separated by up to $>20 h^-1$ Mpc\n",
    "\n",
    "Projected Separation of $6-14 h^-1$ Mpc and line of sight separation of $>5 h^-1$ Mpc\n",
    "\n",
    "~1,000,000 Galaxy Pairs found with mean separation $10 h^-1$ Mpc, which puts it well beyond host DM halo\n",
    "\n"
   ]
  },
  {
   "cell_type": "code",
   "execution_count": null,
   "metadata": {},
   "outputs": [],
   "source": []
  },
  {
   "cell_type": "markdown",
   "metadata": {},
   "source": [
    "Might want to consider developing a class to make processing easier\n"
   ]
  },
  {
   "cell_type": "code",
   "execution_count": null,
   "metadata": {},
   "outputs": [],
   "source": []
  },
  {
   "cell_type": "markdown",
   "metadata": {},
   "source": [
    "Looking into things, it appears that they use the target locations in from the Catalogues, and the stacking method to characterise the filament structure from the y-map. Need to normalise the projected length, to make the stacking effective, and null shear effects away. Unsure if we can use photo-z instead of spectral-z for this, and how the noise statistics change for either. "
   ]
  },
  {
   "cell_type": "code",
   "execution_count": null,
   "metadata": {},
   "outputs": [],
   "source": []
  }
 ],
 "metadata": {
  "kernelspec": {
   "display_name": "Python 3",
   "language": "python",
   "name": "python3"
  },
  "language_info": {
   "codemirror_mode": {
    "name": "ipython",
    "version": 3
   },
   "file_extension": ".py",
   "mimetype": "text/x-python",
   "name": "python",
   "nbconvert_exporter": "python",
   "pygments_lexer": "ipython3",
   "version": "3.6.6"
  }
 },
 "nbformat": 4,
 "nbformat_minor": 2
}
