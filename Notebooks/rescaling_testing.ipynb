{
 "cells": [
  {
   "cell_type": "code",
   "execution_count": 1,
   "metadata": {},
   "outputs": [
    {
     "name": "stdout",
     "output_type": "stream",
     "text": [
      "pywtl packages could not be imported.  This may break plotting code.\n",
      "FlatLambdaCDM(name=\"Planck15\", H0=67.7 km / (Mpc s), Om0=0.307, Tcmb0=2.725 K, Neff=3.05, m_nu=[0.   0.   0.06] eV, Ob0=0.0486)\n",
      "FlatLambdaCDM(name=\"Planck15\", H0=67.7 km / (Mpc s), Om0=0.307, Tcmb0=2.725 K, Neff=3.05, m_nu=[0.   0.   0.06] eV, Ob0=0.0486)\n",
      "/home/mitchell/Documents/masters/masters/scripts\n"
     ]
    }
   ],
   "source": [
    "import os \n",
    "#data_location = input(\"Enter Path Location of data\")\n",
    "os.chdir(\"/home/mitchell/Documents/masters/masters/scripts/\")\n",
    "import galaxy_pairs\n",
    "import cmb\n",
    "import numpy as np\n",
    "import scipy as sp\n",
    "import astropy as ap\n",
    "import glob\n",
    "import pandas as pd\n",
    "import matplotlib.pyplot as plt\n",
    "from scipy.integrate import quad\n",
    "import scipy.constants as const\n",
    "from astropy import constants as ap_const\n",
    "import scipy.ndimage \n",
    "import PIL\n",
    "from mpdaf.obj import Image,WCS\n",
    "import sptpol_software as sps\n",
    "from astropy.io import fits\n",
    "from astropy.cosmology import Planck15\n",
    "from astropy import units as u\n",
    "import scipy.spatial.distance as dist\n",
    "print(Planck15)\n",
    "cosmo= Planck15\n",
    "cwd = os.getcwd()\n",
    "print(cwd)\n",
    "from sptpol_software.util.tools import stat\n",
    "from sptpol_software.observation import *\n",
    "import sptpol_software.observation as obs\n",
    "import sptpol_software as sps\n",
    "import sptpol_software.observation.sky\n",
    "from sptpol_software.util import files"
   ]
  },
  {
   "cell_type": "code",
   "execution_count": 2,
   "metadata": {},
   "outputs": [
    {
     "name": "stdin",
     "output_type": "stream",
     "text": [
      "Enter the size of the array:  60\n"
     ]
    }
   ],
   "source": [
    "size_of_array = int(input(\"Enter the size of the array: \"))\n",
    "array_1= np.zeros(shape = (size_of_array,size_of_array))\n",
    "array_2 = np.zeros(shape = (size_of_array,size_of_array))"
   ]
  },
  {
   "cell_type": "code",
   "execution_count": 3,
   "metadata": {},
   "outputs": [
    {
     "name": "stdout",
     "output_type": "stream",
     "text": [
      "[13 15]\n",
      "[19 36]\n"
     ]
    }
   ],
   "source": [
    "source_loc_1 = np.array([np.random.randint(0,len(array_1)-10),np.random.randint(0,len(array_1)-10)])\n",
    "source_loc_2 = np.array([np.random.randint(0,len(array_2)-10),np.random.randint(0,len(array_2)-10)])\n",
    "print(source_loc_1)\n",
    "print(source_loc_2)"
   ]
  },
  {
   "cell_type": "code",
   "execution_count": 4,
   "metadata": {},
   "outputs": [
    {
     "name": "stdout",
     "output_type": "stream",
     "text": [
      "x1 = 13\n",
      "-x1 = 47\n",
      "y1 = 15\n",
      "-y1 = 45\n",
      "x2 = 19\n",
      "-x2 = 41\n",
      "y2 = 36\n",
      "-y2 = 24\n"
     ]
    }
   ],
   "source": [
    "x1 = source_loc_1[0]\n",
    "print(\"x1 = \" + str(x1))\n",
    "print(\"-x1 = \" + str(len(array_1)-x1))\n",
    "y1 = source_loc_1[1]\n",
    "print(\"y1 = \" + str(y1))\n",
    "print(\"-y1 = \" + str(len(array_1)-y1))\n",
    "\n",
    "x2 = source_loc_2[0]\n",
    "print(\"x2 = \" + str(x2))\n",
    "print(\"-x2 = \" + str(len(array_1)-x2))\n",
    "\n",
    "y2 = source_loc_2[1]\n",
    "print(\"y2 = \" + str(y2))\n",
    "print(\"-y2 = \" + str(len(array_1)-y2))\n",
    "\n",
    "# source = makeGaussian(size_of_source,size_of_source)\n",
    "# array[x1:x1+source.shape[0], y1:y1+source.shape[1]] = source\n",
    "# array[-x1-source.shape[0]:-x1, -y1-source.shape[1]:-y1] = source\n"
   ]
  },
  {
   "cell_type": "code",
   "execution_count": 5,
   "metadata": {},
   "outputs": [],
   "source": [
    "# plt.imshow(array)"
   ]
  },
  {
   "cell_type": "code",
   "execution_count": 6,
   "metadata": {},
   "outputs": [],
   "source": [
    "# source_x1 = x1+(source.shape[0]/2)\n",
    "# source_y1 = y1+(source.shape[1]/2)\n",
    "# source_x2 = -x1-(source.shape[0]/2)\n",
    "# source_y2 = -y1+(source.shape[1]/2)\n",
    "\n",
    "angle_1 = np.degrees(np.arctan((float(len(array_1)-y1)-float(y1))/(float(len(array_1)-x1)-float(x1))))\n",
    "angle_2 =  np.degrees(np.arctan((float(len(array_2)-y2)-float(y2))/(float(len(array_2)-x2)-float(x2))))"
   ]
  },
  {
   "cell_type": "code",
   "execution_count": 7,
   "metadata": {},
   "outputs": [
    {
     "name": "stdout",
     "output_type": "stream",
     "text": [
      "41.423665625002656\n",
      "-28.610459665965216\n"
     ]
    }
   ],
   "source": [
    "print(angle_1)\n",
    "print(angle_2)"
   ]
  },
  {
   "cell_type": "code",
   "execution_count": null,
   "metadata": {},
   "outputs": [],
   "source": []
  },
  {
   "cell_type": "code",
   "execution_count": null,
   "metadata": {},
   "outputs": [],
   "source": []
  },
  {
   "cell_type": "code",
   "execution_count": null,
   "metadata": {},
   "outputs": [],
   "source": []
  },
  {
   "cell_type": "code",
   "execution_count": 8,
   "metadata": {},
   "outputs": [],
   "source": [
    "array_1[source_loc_1[0]][source_loc_1[1]] = 1\n",
    "array_1[-source_loc_1[0]][-source_loc_1[1]] = 1\n",
    "gauss_array_1 = sp.ndimage.gaussian_filter(array_1,2)\n",
    "array_2[source_loc_2[0]][source_loc_2[1]] = 1\n",
    "array_2[-source_loc_2[0]][-source_loc_2[1]] = 1\n",
    "gauss_array_2 = sp.ndimage.gaussian_filter(array_2,2)"
   ]
  },
  {
   "cell_type": "code",
   "execution_count": 9,
   "metadata": {},
   "outputs": [
    {
     "data": {
      "image/png": "[encoded data removed]",
      "text/plain": [
       "<Figure size 432x288 with 1 Axes>"
      ]
     },
     "metadata": {
      "needs_background": "light"
     },
     "output_type": "display_data"
    },
    {
     "data": {
      "image/png": "[encoded data removed]",
      "text/plain": [
       "<Figure size 432x288 with 1 Axes>"
      ]
     },
     "metadata": {
      "needs_background": "light"
     },
     "output_type": "display_data"
    }
   ],
   "source": [
    "plt.imshow(gauss_array_1)\n",
    "plt.show()\n",
    "plt.imshow(gauss_array_2)\n",
    "plt.show()"
   ]
  },
  {
   "cell_type": "code",
   "execution_count": 10,
   "metadata": {},
   "outputs": [],
   "source": [
    "rot_array_1 =  sp.ndimage.rotate(gauss_array_1, 90-angle_1, reshape=True)\n",
    "rot_array_2 =  sp.ndimage.rotate(gauss_array_2, 90-angle_2, reshape=True)"
   ]
  },
  {
   "cell_type": "code",
   "execution_count": 11,
   "metadata": {},
   "outputs": [
    {
     "data": {
      "image/png": "[encoded data removed]",
      "text/plain": [
       "<Figure size 432x288 with 1 Axes>"
      ]
     },
     "metadata": {
      "needs_background": "light"
     },
     "output_type": "display_data"
    },
    {
     "data": {
      "image/png": "[encoded data removed]",
      "text/plain": [
       "<Figure size 432x288 with 1 Axes>"
      ]
     },
     "metadata": {
      "needs_background": "light"
     },
     "output_type": "display_data"
    }
   ],
   "source": [
    "plt.imshow(rot_array_1)\n",
    "plt.show()\n",
    "plt.imshow(rot_array_2)\n",
    "plt.show()"
   ]
  },
  {
   "cell_type": "code",
   "execution_count": 12,
   "metadata": {},
   "outputs": [
    {
     "name": "stdout",
     "output_type": "stream",
     "text": [
      "45.34313619501854\n",
      "25.059928172283335\n"
     ]
    }
   ],
   "source": [
    "sep_1 = np.sqrt(((len(array_1)-x1)-x1)**2 + ((len(array_1)-y1) - y1)**2)\n",
    "print(sep_1)\n",
    "scale_fac_1 = 100.0/sep_1\n",
    "sep_2 = np.sqrt(((len(array_2)-x2)-x2)**2 + ((len(array_2)-y2) - y2)**2)\n",
    "print(sep_2)\n",
    "scale_fac_2 = 100.0/sep_2\n"
   ]
  },
  {
   "cell_type": "code",
   "execution_count": 13,
   "metadata": {},
   "outputs": [
    {
     "name": "stdout",
     "output_type": "stream",
     "text": [
      "2.2054054569561545\n",
      "3.9904344223381107\n"
     ]
    }
   ],
   "source": [
    "print(scale_fac_1)\n",
    "print(scale_fac_2)"
   ]
  },
  {
   "cell_type": "code",
   "execution_count": 14,
   "metadata": {},
   "outputs": [
    {
     "data": {
      "image/png": "[encoded data removed]",
      "text/plain": [
       "<Figure size 432x288 with 1 Axes>"
      ]
     },
     "metadata": {
      "needs_background": "light"
     },
     "output_type": "display_data"
    },
    {
     "data": {
      "image/png": "[encoded data removed]",
      "text/plain": [
       "<Figure size 432x288 with 1 Axes>"
      ]
     },
     "metadata": {
      "needs_background": "light"
     },
     "output_type": "display_data"
    }
   ],
   "source": [
    "rescaled_array_1 = sp.ndimage.zoom(rot_array_1,scale_fac_1)\n",
    "plt.imshow(rescaled_array_1)\n",
    "plt.show()\n",
    "test = np.pad(rescaled_array_1,30,mode=\"constant\")\n",
    "plt.imshow(test)\n",
    "plt.show()\n"
   ]
  },
  {
   "cell_type": "code",
   "execution_count": 15,
   "metadata": {},
   "outputs": [
    {
     "data": {
      "text/plain": [
       "<matplotlib.image.AxesImage at 0x7fd990e95710>"
      ]
     },
     "execution_count": 15,
     "metadata": {},
     "output_type": "execute_result"
    },
    {
     "data": {
      "image/png": "[encoded data removed]",
      "text/plain": [
       "<Figure size 432x288 with 1 Axes>"
      ]
     },
     "metadata": {
      "needs_background": "light"
     },
     "output_type": "display_data"
    }
   ],
   "source": [
    "rescaled_array_2 = sp.ndimage.zoom(rot_array_2,scale_fac_2)\n",
    "plt.imshow(rescaled_array_2)"
   ]
  },
  {
   "cell_type": "code",
   "execution_count": 16,
   "metadata": {},
   "outputs": [
    {
     "name": "stdout",
     "output_type": "stream",
     "text": [
      "[93, 93]\n",
      "[161, 161]\n"
     ]
    }
   ],
   "source": [
    "centre_1 = [len(rescaled_array_1)/2,len(rescaled_array_1)/2]\n",
    "print(centre_1)\n",
    "centre_2 = [len(rescaled_array_2)/2,len(rescaled_array_2)/2]\n",
    "print(centre_2)"
   ]
  },
  {
   "cell_type": "code",
   "execution_count": 17,
   "metadata": {},
   "outputs": [],
   "source": [
    "output_1 = galaxy_pairs.get_subarray(rescaled_array_1,centre_1,min(len(rescaled_array_1),70))\n",
    "output_2 = galaxy_pairs.get_subarray(rescaled_array_2,centre_2,min(len(rescaled_array_2),70))"
   ]
  },
  {
   "cell_type": "code",
   "execution_count": 19,
   "metadata": {},
   "outputs": [
    {
     "data": {
      "image/png": "[encoded data removed]",
      "text/plain": [
       "<Figure size 432x288 with 1 Axes>"
      ]
     },
     "metadata": {
      "needs_background": "light"
     },
     "output_type": "display_data"
    },
    {
     "data": {
      "image/png": "[encoded data removed]",
      "text/plain": [
       "<Figure size 432x288 with 1 Axes>"
      ]
     },
     "metadata": {
      "needs_background": "light"
     },
     "output_type": "display_data"
    }
   ],
   "source": [
    "plt.imshow(output_1)\n",
    "plt.show()\n",
    "plt.imshow(output_2)\n",
    "plt.show()"
   ]
  },
  {
   "cell_type": "code",
   "execution_count": 20,
   "metadata": {},
   "outputs": [
    {
     "data": {
      "text/plain": [
       "<matplotlib.image.AxesImage at 0x7fd98fe1e7d0>"
      ]
     },
     "execution_count": 20,
     "metadata": {},
     "output_type": "execute_result"
    },
    {
     "data": {
      "image/png": "[encoded data removed]",
      "text/plain": [
       "<Figure size 432x288 with 1 Axes>"
      ]
     },
     "metadata": {
      "needs_background": "light"
     },
     "output_type": "display_data"
    }
   ],
   "source": [
    "final_output = output_1+output_2\n",
    "plt.imshow(final_output)"
   ]
  },
  {
   "cell_type": "code",
   "execution_count": 31,
   "metadata": {},
   "outputs": [
    {
     "data": {
      "text/plain": [
       "array([[0.02234954, 0.02441647, 0.02627146, 0.02780802, 0.02892485,\n",
       "        0.02955523, 0.02965142, 0.02917439, 0.02814349, 0.02663925,\n",
       "        0.02475999, 0.02261745, 0.02031928, 0.01796492, 0.01564681],\n",
       "       [0.02539649, 0.02789434, 0.03017551, 0.03210478, 0.03354085,\n",
       "        0.03438115, 0.03455688, 0.03401413, 0.03277736, 0.0309475 ,\n",
       "        0.02865437, 0.02605174, 0.02328381, 0.02047625, 0.01774285],\n",
       "       [0.02858663, 0.03160726, 0.034416  , 0.03683847, 0.038683  ,\n",
       "        0.03980062, 0.04009272, 0.03948335, 0.03800328, 0.03577979,\n",
       "        0.03298295, 0.02981994, 0.02648294, 0.023135  , 0.01991938],\n",
       "       [0.03185997, 0.03549318, 0.03892946, 0.04194617, 0.04429188,\n",
       "        0.04576053, 0.04621143, 0.0455352 , 0.04377178, 0.0410852 ,\n",
       "        0.03769593, 0.03387438, 0.02987078, 0.02589607, 0.02213117],\n",
       "       [0.03514556, 0.03947248, 0.04362788, 0.04733436, 0.0502719 ,\n",
       "        0.05216676, 0.05282092, 0.05207701, 0.04998867, 0.04677153,\n",
       "        0.04270789, 0.03813946, 0.03338233, 0.02870313, 0.02432723],\n",
       "       [0.03828754, 0.04335457, 0.04828688, 0.05274846, 0.05633978,\n",
       "        0.05870811, 0.05959261, 0.05878457, 0.05635216, 0.0525653 ,\n",
       "        0.04777499, 0.04240525, 0.03684618, 0.03142262, 0.02640643],\n",
       "       [0.04106925, 0.04686936, 0.05258427, 0.05781818, 0.06207756,\n",
       "        0.06491882, 0.06603046, 0.06516975, 0.06241283, 0.05806387,\n",
       "        0.05254085, 0.04636682, 0.04001549, 0.03386578, 0.02823127],\n",
       "       [0.04325346, 0.04971458, 0.05614601, 0.06209537, 0.06697295,\n",
       "        0.07024412, 0.0715605 , 0.07066127, 0.0676251 , 0.06277243,\n",
       "        0.05658066, 0.04967511, 0.04261303, 0.0358207 , 0.02964691],\n",
       "       [0.04461849, 0.05159172, 0.05858006, 0.06508425, 0.07044776,\n",
       "        0.07407122, 0.07556485, 0.07463759, 0.07137632, 0.06613182,\n",
       "        0.05943121, 0.05196865, 0.04436164, 0.0370801 , 0.03050561],\n",
       "       [0.04498585, 0.05225425, 0.05956262, 0.06638099, 0.0720313 ,\n",
       "        0.07588954, 0.07751712, 0.07657354, 0.07316263, 0.06768784,\n",
       "        0.06071159, 0.05294582, 0.04503224, 0.0374776 , 0.03069242],\n",
       "       [0.04424634, 0.05154445, 0.05889568, 0.06576148, 0.07146749,\n",
       "        0.07539027, 0.07706768, 0.07613215, 0.07269757, 0.06719584,\n",
       "        0.06019985, 0.05241406, 0.04447975, 0.03691705, 0.03014687],\n",
       "       [0.042353  , 0.04938669, 0.05648205, 0.06311818, 0.06863248,\n",
       "        0.07241415, 0.074028  , 0.07313423, 0.06983755, 0.0645378 ,\n",
       "        0.05778608, 0.05027588, 0.04263363, 0.03535693, 0.02884737],\n",
       "       [0.03947185, 0.04598765, 0.05256289, 0.05871697, 0.0638202 ,\n",
       "        0.06729576, 0.06876262, 0.06793445, 0.06489827, 0.05999385,\n",
       "        0.05372627, 0.04675779, 0.03967823, 0.03293791, 0.0268995 ],\n",
       "       [0.03582957, 0.04163433, 0.04747788, 0.05293681, 0.05745238,\n",
       "        0.06051494, 0.06179341, 0.06104117, 0.05833363, 0.05396635,\n",
       "        0.04838524, 0.04217918, 0.03587051, 0.02985345, 0.02444626],\n",
       "       [0.03171022, 0.0366892 , 0.04167466, 0.04630932, 0.05013124,\n",
       "        0.05272019, 0.05378936, 0.05311931, 0.05077878, 0.04703324,\n",
       "        0.04226193, 0.03695139, 0.03153651, 0.02635312, 0.02167415],\n",
       "       [0.02741966, 0.03154367, 0.03564325, 0.03942734, 0.04253171,\n",
       "        0.04462692, 0.0454765 , 0.04489483, 0.04294112, 0.0398428 ,\n",
       "        0.03590826, 0.03152119, 0.02702879, 0.02270835, 0.01878663],\n",
       "       [0.02320624, 0.02651152, 0.02976885, 0.0327489 , 0.03517341,\n",
       "        0.03679372, 0.03742957, 0.03693844, 0.03536585, 0.03289013,\n",
       "        0.02975009, 0.02624018, 0.02262951, 0.01913827, 0.01594738],\n",
       "       [0.01927424, 0.02184566, 0.02435335, 0.02662392, 0.02845116,\n",
       "        0.02965374, 0.03010286, 0.02969724, 0.02846878, 0.02654812,\n",
       "        0.02411314, 0.02138489, 0.01856564, 0.01582133, 0.01328938],\n",
       "       [0.01576861, 0.01772222, 0.0196035 , 0.02128738, 0.02262535,\n",
       "        0.0234891 , 0.02379025, 0.02345998, 0.0225195 , 0.02106134,\n",
       "        0.01921482, 0.01714268, 0.01499226, 0.01288116, 0.01090847],\n",
       "       [0.0127414 , 0.01419908, 0.01558144, 0.01680152, 0.01775594,\n",
       "        0.01835749, 0.01854757, 0.01828079, 0.01757129, 0.01648405,\n",
       "        0.01511065, 0.01356644, 0.0119549 , 0.01035677, 0.0088418 ]])"
      ]
     },
     "execution_count": 31,
     "metadata": {},
     "output_type": "execute_result"
    }
   ],
   "source": [
    "final_output[60:80,15:30]"
   ]
  },
  {
   "cell_type": "code",
   "execution_count": null,
   "metadata": {},
   "outputs": [],
   "source": []
  },
  {
   "cell_type": "code",
   "execution_count": null,
   "metadata": {},
   "outputs": [],
   "source": []
  }
 ],
 "metadata": {
  "kernelspec": {
   "display_name": "Python 2",
   "language": "python",
   "name": "python2"
  },
  "language_info": {
   "codemirror_mode": {
    "name": "ipython",
    "version": 2
   },
   "file_extension": ".py",
   "mimetype": "text/x-python",
   "name": "python",
   "nbconvert_exporter": "python",
   "pygments_lexer": "ipython2",
   "version": "2.7.15"
  }
 },
 "nbformat": 4,
 "nbformat_minor": 2
}
