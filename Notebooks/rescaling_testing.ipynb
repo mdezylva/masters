{
 "cells": [
  {
   "cell_type": "code",
   "execution_count": 1,
   "metadata": {},
   "outputs": [
    {
     "name": "stdout",
     "output_type": "stream",
     "text": [
      "pywtl packages could not be imported.  This may break plotting code.\n",
      "FlatLambdaCDM(name=\"Planck15\", H0=67.7 km / (Mpc s), Om0=0.307, Tcmb0=2.725 K, Neff=3.05, m_nu=[0.   0.   0.06] eV, Ob0=0.0486)\n",
      "FlatLambdaCDM(name=\"Planck15\", H0=67.7 km / (Mpc s), Om0=0.307, Tcmb0=2.725 K, Neff=3.05, m_nu=[0.   0.   0.06] eV, Ob0=0.0486)\n",
      "/home/mitchell/Documents/masters/masters/scripts\n"
     ]
    }
   ],
   "source": [
    "import os \n",
    "#data_location = input(\"Enter Path Location of data\")\n",
    "os.chdir(\"/home/mitchell/Documents/masters/masters/scripts/\")\n",
    "import galaxy_pairs\n",
    "import cmb\n",
    "import numpy as np\n",
    "import scipy as sp\n",
    "import astropy as ap\n",
    "import glob\n",
    "import pandas as pd\n",
    "import matplotlib.pyplot as plt\n",
    "from scipy.integrate import quad\n",
    "import scipy.constants as const\n",
    "from astropy import constants as ap_const\n",
    "import scipy.ndimage \n",
    "import PIL\n",
    "from mpdaf.obj import Image,WCS\n",
    "import sptpol_software as sps\n",
    "from astropy.io import fits\n",
    "from astropy.cosmology import Planck15\n",
    "from astropy import units as u\n",
    "import scipy.spatial.distance as dist\n",
    "print(Planck15)\n",
    "cosmo= Planck15\n",
    "cwd = os.getcwd()\n",
    "print(cwd)\n",
    "from sptpol_software.util.tools import stat\n",
    "from sptpol_software.observation import *\n",
    "import sptpol_software.observation as obs\n",
    "import sptpol_software as sps\n",
    "import sptpol_software.observation.sky\n",
    "from sptpol_software.util import files"
   ]
  },
  {
   "cell_type": "code",
   "execution_count": 2,
   "metadata": {},
   "outputs": [
    {
     "name": "stdin",
     "output_type": "stream",
     "text": [
      "Enter the size of the array:  60\n"
     ]
    }
   ],
   "source": [
    "size_of_array = int(input(\"Enter the size of the array: \"))\n",
    "array_1= np.zeros(shape = (size_of_array,size_of_array))\n",
    "array_2 = np.zeros(shape = (size_of_array,size_of_array))"
   ]
  },
  {
   "cell_type": "code",
   "execution_count": 3,
   "metadata": {},
   "outputs": [
    {
     "name": "stdout",
     "output_type": "stream",
     "text": [
      "[40 43]\n",
      "[18 26]\n"
     ]
    }
   ],
   "source": [
    "source_loc_1 = np.array([np.random.randint(0,len(array_1)),np.random.randint(0,len(array_1))])\n",
    "source_loc_2 = np.array([np.random.randint(0,len(array_2)),np.random.randint(0,len(array_2))])\n",
    "print(source_loc_1)\n",
    "print(source_loc_2)"
   ]
  },
  {
   "cell_type": "code",
   "execution_count": 4,
   "metadata": {},
   "outputs": [],
   "source": [
    "x1 = source_loc_1[0]\n",
    "y1 = source_loc_1[1]\n",
    "x2 = source_loc_2[0]\n",
    "y2 = source_loc_2[1]\n",
    "# source = makeGaussian(size_of_source,size_of_source)\n",
    "# array[x1:x1+source.shape[0], y1:y1+source.shape[1]] = source\n",
    "# array[-x1-source.shape[0]:-x1, -y1-source.shape[1]:-y1] = source\n"
   ]
  },
  {
   "cell_type": "code",
   "execution_count": 5,
   "metadata": {},
   "outputs": [],
   "source": [
    "# plt.imshow(array)"
   ]
  },
  {
   "cell_type": "code",
   "execution_count": 6,
   "metadata": {},
   "outputs": [],
   "source": [
    "# source_x1 = x1+(source.shape[0]/2)\n",
    "# source_y1 = y1+(source.shape[1]/2)\n",
    "# source_x2 = -x1-(source.shape[0]/2)\n",
    "# source_y2 = -y1+(source.shape[1]/2)\n",
    "\n",
    "angle_1 = np.degrees(np.arctan((float(-y1)-float(y1))/(float(-x1)-float(x1))))\n",
    "angle_2 = np.degrees(np.arctan((float(-y2)-float(y2))/(float(-x2)-float(x2))))"
   ]
  },
  {
   "cell_type": "code",
   "execution_count": 7,
   "metadata": {},
   "outputs": [
    {
     "name": "stdout",
     "output_type": "stream",
     "text": [
      "47.0700306530411\n",
      "55.30484646876604\n"
     ]
    }
   ],
   "source": [
    "print(angle_1)\n",
    "print(angle_2)"
   ]
  },
  {
   "cell_type": "code",
   "execution_count": null,
   "metadata": {},
   "outputs": [],
   "source": []
  },
  {
   "cell_type": "code",
   "execution_count": null,
   "metadata": {},
   "outputs": [],
   "source": []
  },
  {
   "cell_type": "code",
   "execution_count": null,
   "metadata": {},
   "outputs": [],
   "source": []
  },
  {
   "cell_type": "code",
   "execution_count": 8,
   "metadata": {},
   "outputs": [],
   "source": [
    "array_1[source_loc_1[0]][source_loc_1[1]] = 1\n",
    "array_1[-source_loc_1[0]][-source_loc_1[1]] = 1\n",
    "gauss_array_1 = sp.ndimage.gaussian_filter(array_1,2)\n",
    "array_2[source_loc_2[0]][source_loc_2[1]] = 1\n",
    "array_2[-source_loc_2[0]][-source_loc_2[1]] = 1\n",
    "gauss_array_2 = sp.ndimage.gaussian_filter(array_2,2)"
   ]
  },
  {
   "cell_type": "code",
   "execution_count": 9,
   "metadata": {},
   "outputs": [
    {
     "data": {
      "image/png": "[encoded data removed]",
      "text/plain": [
       "<Figure size 432x288 with 1 Axes>"
      ]
     },
     "metadata": {
      "needs_background": "light"
     },
     "output_type": "display_data"
    },
    {
     "data": {
      "image/png": "[encoded data removed]",
      "text/plain": [
       "<Figure size 432x288 with 1 Axes>"
      ]
     },
     "metadata": {
      "needs_background": "light"
     },
     "output_type": "display_data"
    }
   ],
   "source": [
    "plt.imshow(gauss_array_1)\n",
    "plt.show()\n",
    "plt.imshow(gauss_array_2)\n",
    "plt.show()"
   ]
  },
  {
   "cell_type": "code",
   "execution_count": 10,
   "metadata": {},
   "outputs": [],
   "source": [
    "rot_array_1 =  sp.ndimage.rotate(gauss_array_1, angle_1, reshape=False)\n",
    "rot_array_2 =  sp.ndimage.rotate(gauss_array_2, angle_2, reshape=False)"
   ]
  },
  {
   "cell_type": "code",
   "execution_count": 11,
   "metadata": {},
   "outputs": [
    {
     "data": {
      "image/png": "[encoded data removed]",
      "text/plain": [
       "<Figure size 432x288 with 1 Axes>"
      ]
     },
     "metadata": {
      "needs_background": "light"
     },
     "output_type": "display_data"
    },
    {
     "data": {
      "image/png": "[encoded data removed]",
      "text/plain": [
       "<Figure size 432x288 with 1 Axes>"
      ]
     },
     "metadata": {
      "needs_background": "light"
     },
     "output_type": "display_data"
    }
   ],
   "source": [
    "plt.imshow(rot_array_1)\n",
    "plt.show()\n",
    "plt.imshow(rot_array_2)\n",
    "plt.show()"
   ]
  },
  {
   "cell_type": "code",
   "execution_count": 12,
   "metadata": {},
   "outputs": [],
   "source": [
    "sep_1 = np.sqrt((-x1-x1)**2 + (-y1 - y1)**2)\n",
    "scale_fac_1 = 100.0/sep_1\n",
    "sep_2 = np.sqrt((-x2-x2)**2 + (-y2 - y2)**2)\n",
    "scale_fac_2 = 100.0/sep_2\n"
   ]
  },
  {
   "cell_type": "code",
   "execution_count": 13,
   "metadata": {},
   "outputs": [
    {
     "name": "stdout",
     "output_type": "stream",
     "text": [
      "0.851379928096609\n",
      "1.5811388300841898\n"
     ]
    }
   ],
   "source": [
    "print(scale_fac_1)\n",
    "print(scale_fac_2)"
   ]
  },
  {
   "cell_type": "code",
   "execution_count": 15,
   "metadata": {},
   "outputs": [
    {
     "data": {
      "text/plain": [
       "<matplotlib.image.AxesImage at 0x7f495849a6d0>"
      ]
     },
     "execution_count": 15,
     "metadata": {},
     "output_type": "execute_result"
    },
    {
     "data": {
      "image/png": "[encoded data removed]",
      "text/plain": [
       "<Figure size 432x288 with 1 Axes>"
      ]
     },
     "metadata": {
      "needs_background": "light"
     },
     "output_type": "display_data"
    }
   ],
   "source": [
    "rescaled_array_1 = sp.ndimage.zoom(rot_array_1,scale_fac_1)\n",
    "plt.imshow(rescaled_array_1)"
   ]
  },
  {
   "cell_type": "code",
   "execution_count": 16,
   "metadata": {},
   "outputs": [
    {
     "name": "stderr",
     "output_type": "stream",
     "text": [
      "/home/mitchell/Software/anaconda3/envs/py27/lib/python2.7/site-packages/scipy/ndimage/interpolation.py:583: UserWarning: From scipy 0.13.0, the output shape of zoom() is calculated with round() instead of int() - for these inputs the size of the returned array has changed.\n",
      "  \"the returned array has changed.\", UserWarning)\n"
     ]
    },
    {
     "data": {
      "text/plain": [
       "<matplotlib.image.AxesImage at 0x7f495845a9d0>"
      ]
     },
     "execution_count": 16,
     "metadata": {},
     "output_type": "execute_result"
    },
    {
     "data": {
      "image/png": "[encoded data removed]",
      "text/plain": [
       "<Figure size 432x288 with 1 Axes>"
      ]
     },
     "metadata": {
      "needs_background": "light"
     },
     "output_type": "display_data"
    }
   ],
   "source": [
    "rescaled_array_2 = sp.ndimage.zoom(rot_array_2,scale_fac_2)\n",
    "plt.imshow(rescaled_array_2)"
   ]
  },
  {
   "cell_type": "code",
   "execution_count": 19,
   "metadata": {},
   "outputs": [],
   "source": [
    "centre_1 = [len(rescaled_array_1)/2,len(rescaled_array_1)/2]\n",
    "centre_2 = [len(rescaled_array_2)/2,len(rescaled_array_2)/2]"
   ]
  },
  {
   "cell_type": "code",
   "execution_count": 20,
   "metadata": {},
   "outputs": [],
   "source": [
    "output_1 = galaxy_pairs.get_subarray(rescaled_array_1,centre_1,50)\n",
    "output_2 = galaxy_pairs.get_subarray(rescaled_array_2,centre_2,50)"
   ]
  },
  {
   "cell_type": "code",
   "execution_count": 21,
   "metadata": {},
   "outputs": [
    {
     "data": {
      "image/png": "[encoded data removed]",
      "text/plain": [
       "<Figure size 432x288 with 1 Axes>"
      ]
     },
     "metadata": {
      "needs_background": "light"
     },
     "output_type": "display_data"
    },
    {
     "data": {
      "image/png": "[encoded data removed]",
      "text/plain": [
       "<Figure size 432x288 with 1 Axes>"
      ]
     },
     "metadata": {
      "needs_background": "light"
     },
     "output_type": "display_data"
    }
   ],
   "source": [
    "plt.imshow(output_1)\n",
    "plt.show()\n",
    "plt.imshow(output_2)\n",
    "plt.show()"
   ]
  },
  {
   "cell_type": "code",
   "execution_count": null,
   "metadata": {},
   "outputs": [],
   "source": []
  },
  {
   "cell_type": "code",
   "execution_count": null,
   "metadata": {},
   "outputs": [],
   "source": []
  },
  {
   "cell_type": "code",
   "execution_count": null,
   "metadata": {},
   "outputs": [],
   "source": []
  }
 ],
 "metadata": {
  "kernelspec": {
   "display_name": "Python 2",
   "language": "python",
   "name": "python2"
  },
  "language_info": {
   "codemirror_mode": {
    "name": "ipython",
    "version": 2
   },
   "file_extension": ".py",
   "mimetype": "text/x-python",
   "name": "python",
   "nbconvert_exporter": "python",
   "pygments_lexer": "ipython2",
   "version": "2.7.15"
  }
 },
 "nbformat": 4,
 "nbformat_minor": 2
}
