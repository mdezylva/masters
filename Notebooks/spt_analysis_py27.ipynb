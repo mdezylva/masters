{
 "cells": [
  {
   "cell_type": "code",
   "execution_count": 1,
   "metadata": {},
   "outputs": [
    {
     "name": "stdout",
     "output_type": "stream",
     "text": [
      "pywtl packages could not be imported.  This may break plotting code.\n",
      "FlatLambdaCDM(name=\"Planck15\", H0=67.7 km / (Mpc s), Om0=0.307, Tcmb0=2.725 K, Neff=3.05, m_nu=[0.   0.   0.06] eV, Ob0=0.0486)\n",
      "/home/mitchell/Documents/masters/masters/data\n"
     ]
    }
   ],
   "source": [
    "import os \n",
    "#data_location = input(\"Enter Path Location of data\")\n",
    "os.chdir(\"/home/mitchell/Documents/masters/masters/scripts/\")\n",
    "import galaxy_pairs\n",
    "import cmb\n",
    "os.chdir(\"/home/mitchell/Documents/masters/masters/data\")\n",
    "cwd = os.getcwd()\n",
    "print(cwd)"
   ]
  },
  {
   "cell_type": "code",
   "execution_count": 2,
   "metadata": {},
   "outputs": [
    {
     "name": "stdout",
     "output_type": "stream",
     "text": [
      "FlatLambdaCDM(name=\"Planck15\", H0=67.7 km / (Mpc s), Om0=0.307, Tcmb0=2.725 K, Neff=3.05, m_nu=[0.   0.   0.06] eV, Ob0=0.0486)\n"
     ]
    }
   ],
   "source": [
    "import numpy as np\n",
    "import scipy as sp\n",
    "import astropy as ap\n",
    "import glob\n",
    "import pandas as pd\n",
    "import matplotlib.pyplot as plt\n",
    "from scipy.integrate import quad\n",
    "import scipy.constants as const\n",
    "from astropy import constants as ap_const\n",
    "import scipy.ndimage \n",
    "import PIL\n",
    "import sptpol_software as sps\n",
    "from astropy.io import fits\n",
    "from astropy.cosmology import Planck15\n",
    "from astropy import units as u\n",
    "import scipy.spatial.distance as dist\n",
    "print(Planck15)\n",
    "cosmo= Planck15"
   ]
  },
  {
   "cell_type": "code",
   "execution_count": 3,
   "metadata": {},
   "outputs": [],
   "source": [
    "from sptpol_software.util.tools import stat\n",
    "from sptpol_software.observation import *\n",
    "import sptpol_software.observation as obs\n",
    "import sptpol_software as sps\n",
    "import sptpol_software.observation.sky\n",
    "from sptpol_software.util import files"
   ]
  },
  {
   "cell_type": "code",
   "execution_count": 4,
   "metadata": {},
   "outputs": [],
   "source": [
    "T_cmb = 2.725\n",
    "freqs_ghz = [93.2000,147.700]\n",
    "beam_norm_correction = [1./0.99673, 1./0.99470, 1./1. ] \n",
    "cal_factors = [0.9097,0.7765] # no 220 is why last is zero. \n",
    "#pol_cal_factors = pol_cal_factors_800 * beam_norm_correction"
   ]
  },
  {
   "cell_type": "code",
   "execution_count": 5,
   "metadata": {},
   "outputs": [
    {
     "data": {
      "text/plain": [
       "['ra0hdec-57.5_ra0hdec-57p5_20140706_073929_090ghz.h5',\n",
       " 'ra0dec-57p5_sum1000_090ghz.h5',\n",
       " 'ra0dec-57p5_sum5000_150ghz.h5',\n",
       " 'y_map.h5',\n",
       " 'ra0hdec-57.5_ra0hdec-57p5_20140706_073929_150ghz.h5',\n",
       " 'ra0dec-57p5_sum100Weighted_150ghz.h5',\n",
       " 'ra0dec-57p5_sum1000_150ghz.h5',\n",
       " 'ra0dec-57p5_sum_150ghz.h5',\n",
       " 'ra0dec-57p5_sum100Weighted_090ghz.h5',\n",
       " 'first_coadd_test_fbcode.h5',\n",
       " 'test.h5',\n",
       " 'ra0dec-57p5_sum5000_090ghz.h5',\n",
       " 'ra0dec-57p5_sum_090ghz.h5']"
      ]
     },
     "execution_count": 5,
     "metadata": {},
     "output_type": "execute_result"
    }
   ],
   "source": [
    "glob.glob('*.h5')"
   ]
  },
  {
   "cell_type": "code",
   "execution_count": 6,
   "metadata": {},
   "outputs": [],
   "source": [
    "map_150ghz = files.read(\"ra0dec-57p5_sum5000_150ghz.h5\")\n",
    "map_90ghz = files.read(\"ra0dec-57p5_sum5000_090ghz.h5\")"
   ]
  },
  {
   "cell_type": "code",
   "execution_count": 7,
   "metadata": {},
   "outputs": [],
   "source": [
    "# map_150ghz = pol_cal_factors_800[0]*map_150ghz\n",
    "# map_90ghz = pol_cal_factors_800[1]*map_90ghz"
   ]
  },
  {
   "cell_type": "code",
   "execution_count": 8,
   "metadata": {},
   "outputs": [],
   "source": [
    "# map_150ghz.getSubmap([5,5], center_offset=[0,0], units='degree').drawImage(bw=False,vmax=0)\n",
    "# map_90ghz.getSubmap([10,10], center_offset=[0,0], units='degree').drawImage(bw=False)"
   ]
  },
  {
   "cell_type": "code",
   "execution_count": 9,
   "metadata": {},
   "outputs": [],
   "source": [
    "# diff_T = map_150ghz-map_90ghz\n",
    "# diff_T.getSubmap([5,5], center_offset=[1,1], units='degree').drawImage(bw=False)"
   ]
  },
  {
   "cell_type": "code",
   "execution_count": 10,
   "metadata": {},
   "outputs": [
    {
     "name": "stdout",
     "output_type": "stream",
     "text": [
      "-1.598760150351676\n",
      "-0.9553171397183053\n"
     ]
    }
   ],
   "source": [
    "# def convert_ghz_to_y(freq_power):\n",
    "#     x = freq_power/56.85  # x = h v / k_B T_CMB\n",
    "#     return((x/np.tanh(x/2)) - 4)\n",
    "print(cmb.convert_ghz_to_y(90))\n",
    "print(cmb.convert_ghz_to_y(150))"
   ]
  },
  {
   "cell_type": "code",
   "execution_count": 11,
   "metadata": {},
   "outputs": [
    {
     "data": {
      "text/plain": [
       "<matplotlib.legend.Legend at 0x7f14af979ed0>"
      ]
     },
     "execution_count": 11,
     "metadata": {},
     "output_type": "execute_result"
    },
    {
     "data": {
      "image/png": "[encoded data removed]",
      "text/plain": [
       "<Figure size 432x288 with 1 Axes>"
      ]
     },
     "metadata": {
      "needs_background": "light"
     },
     "output_type": "display_data"
    }
   ],
   "source": [
    "freq_range = np.arange(20,1000,1)\n",
    "x = freq_range/56.85\n",
    "y_param = [(ex/np.tanh(ex/2) - 4) for ex in x]\n",
    "plt.semilogx(freq_range,y_param,label='Y')\n",
    "I_v = [(ex**4 * np.exp(ex))/(np.exp(ex)-1)**2 * (ex/np.tanh(ex/2) - 4) for ex in x]\n",
    "plt.semilogx(freq_range,I_v,label='Intensity')\n",
    "plt.axhline(0, color='black')\n",
    "plt.title('Frequency Dependance of SZ Effect')\n",
    "plt.legend()"
   ]
  },
  {
   "cell_type": "code",
   "execution_count": 12,
   "metadata": {},
   "outputs": [],
   "source": [
    "# map_150ghz_array = map_150ghz.getTOnly().map\n",
    "# print(type(map_150ghz))"
   ]
  },
  {
   "cell_type": "code",
   "execution_count": 13,
   "metadata": {},
   "outputs": [],
   "source": [
    "# freq_scaling = convert_ghz_to_y(150)-convert_ghz_to_y(90)\n",
    "# print(freq_scaling)\n",
    "# freq_scaling_fac = 1.0/freq_scaling\n",
    "# print(freq_scaling_fac)"
   ]
  },
  {
   "cell_type": "code",
   "execution_count": 14,
   "metadata": {},
   "outputs": [],
   "source": [
    "#y_map = sptpol_software.observation.sky.Map\n",
    "# y_map = freq_scaling_fac*(map_150ghz-map_90ghz)\n",
    "#/(convert_ghz_to_y(150)-convert_ghz_to_y(90))"
   ]
  },
  {
   "cell_type": "code",
   "execution_count": 11,
   "metadata": {},
   "outputs": [],
   "source": [
    "# y_map.getSubmap([5,5], center_offset=[0,0], units='degree').drawImage(bw=True)\n",
    "# print(\"Functionally a factor of 2 conversion, look at scale\")\n",
    "# diff_T.getSubmap([2,2], center_offset=[0,0], units='degree').drawImage(bw=False)\n",
    "y_map_array = cmb.get_y_map([map_150ghz,map_90ghz],cal_factors,freqs_ghz)\n"
   ]
  },
  {
   "cell_type": "code",
   "execution_count": 15,
   "metadata": {},
   "outputs": [
    {
     "data": {
      "image/png": "[encoded data removed]",
      "text/plain": [
       "<Figure size 907.2x252 with 6 Axes>"
      ]
     },
     "metadata": {
      "needs_background": "light"
     },
     "output_type": "display_data"
    },
    {
     "data": {
      "text/plain": [
       "<Figure size 432x288 with 0 Axes>"
      ]
     },
     "metadata": {},
     "output_type": "display_data"
    }
   ],
   "source": [
    "y_map.drawImage(bw=False,vmax=-0.00001,vmin=0.00001)"
   ]
  },
  {
   "cell_type": "code",
   "execution_count": 122,
   "metadata": {},
   "outputs": [
    {
     "data": {
      "text/plain": [
       "array([1320, 2520])"
      ]
     },
     "execution_count": 122,
     "metadata": {},
     "output_type": "execute_result"
    }
   ],
   "source": [
    "np.shape(y_map)"
   ]
  },
  {
   "cell_type": "code",
   "execution_count": 154,
   "metadata": {},
   "outputs": [
    {
     "name": "stdout",
     "output_type": "stream",
     "text": [
      "[[0. 0. 0. ... 0. 0. 0.]\n",
      " [0. 0. 0. ... 0. 0. 0.]\n",
      " [0. 0. 0. ... 0. 0. 0.]\n",
      " ...\n",
      " [0. 0. 0. ... 0. 0. 0.]\n",
      " [0. 0. 0. ... 0. 0. 0.]\n",
      " [0. 0. 0. ... 0. 0. 0.]]\n"
     ]
    }
   ],
   "source": [
    "# y_map.writeToHDF5('y_map.h5',overwrite=True,use_compression=False)\n",
    "y_map_array = y_map.getTOnly().map\n",
    "print(y_map_array)\n",
    "np.save('y_map', y_map_array)"
   ]
  },
  {
   "cell_type": "code",
   "execution_count": 12,
   "metadata": {},
   "outputs": [
    {
     "data": {
      "text/plain": [
       "<matplotlib.image.AxesImage at 0x7fb7adaf3d90>"
      ]
     },
     "execution_count": 12,
     "metadata": {},
     "output_type": "execute_result"
    },
    {
     "data": {
      "image/png": "[encoded data removed]",
      "text/plain": [
       "<Figure size 432x288 with 1 Axes>"
      ]
     },
     "metadata": {
      "needs_background": "light"
     },
     "output_type": "display_data"
    }
   ],
   "source": [
    "plt.imshow(y_map_array,vmax=0.00001,vmin=-0.00001)"
   ]
  },
  {
   "cell_type": "code",
   "execution_count": 17,
   "metadata": {},
   "outputs": [],
   "source": [
    "# red_mapper_cat = fits.open(\"DES_Y1A1_3x2pt_redMaGiC_zerr_CATALOG.fits\")\n",
    "from astropy.table import Table\n",
    "dat = Table.read('DES_Y1A1_3x2pt_redMaGiC_zerr_CATALOG.fits', format='fits')\n",
    "df = dat.to_pandas()"
   ]
  },
  {
   "cell_type": "code",
   "execution_count": 18,
   "metadata": {},
   "outputs": [],
   "source": [
    "# red_mapper_cat.info()\n",
    "# df['ZREDMAGIC']"
   ]
  },
  {
   "cell_type": "code",
   "execution_count": 19,
   "metadata": {},
   "outputs": [],
   "source": [
    "# com_dists = cosmo.comoving_distance(df['ZREDMAGIC']).to_value(u.Mpc)\n",
    "df['COMOVING'] = pd.Series(cosmo.comoving_distance(df['ZREDMAGIC']).to_value(u.Mpc))\n",
    "df['COMOVING_E'] = pd.Series(cosmo.comoving_distance(df['ZREDMAGIC_E']).to_value(u.Mpc))"
   ]
  },
  {
   "cell_type": "code",
   "execution_count": 20,
   "metadata": {},
   "outputs": [
    {
     "name": "stdout",
     "output_type": "stream",
     "text": [
      "Help on function getPairs in module galaxy_pairs:\n",
      "\n",
      "getPairs(data_frame, max_sep=20, results_loc='PAIRS_sparse_dist.npz', save_frame=False)\n",
      "    Takes a data frame with RA, DEC, and COMOVING distances, and pairs\n",
      "    up those vectors with the closest vector under a given maximum separation\n",
      "    and store the results in an array where:\n",
      "    results[0] = First Item\n",
      "    results[1] = Second Item\n",
      "    results[2] = Distance between First Item and Second Item\n",
      "\n"
     ]
    }
   ],
   "source": [
    "help(galaxy_pairs.getPairs)"
   ]
  },
  {
   "cell_type": "code",
   "execution_count": 21,
   "metadata": {},
   "outputs": [],
   "source": [
    "# print(df)\n",
    "pairs = galaxy_pairs.getPairs(df,20)\n",
    "# First index is first item in pair\n",
    "# Second index in second item in pair\n",
    "# Third Index is distance apart from each other\n"
   ]
  },
  {
   "cell_type": "code",
   "execution_count": 22,
   "metadata": {},
   "outputs": [],
   "source": [
    "pairs_df = pd.DataFrame(pairs.T,columns = ['First_Loc','Second_Loc','Sep'])"
   ]
  },
  {
   "cell_type": "code",
   "execution_count": 23,
   "metadata": {},
   "outputs": [],
   "source": [
    "# print(pairs)\n",
    "pairs_df['First_Loc'] = pairs_df.First_Loc.astype(int)\n",
    "pairs_df['Second_Loc'] = pairs_df.Second_Loc.astype(int)"
   ]
  },
  {
   "cell_type": "code",
   "execution_count": 92,
   "metadata": {},
   "outputs": [
    {
     "data": {
      "text/html": [
       "<div>\n",
       "<style scoped>\n",
       "    .dataframe tbody tr th:only-of-type {\n",
       "        vertical-align: middle;\n",
       "    }\n",
       "\n",
       "    .dataframe tbody tr th {\n",
       "        vertical-align: top;\n",
       "    }\n",
       "\n",
       "    .dataframe thead th {\n",
       "        text-align: right;\n",
       "    }\n",
       "</style>\n",
       "<table border=\"1\" class=\"dataframe\">\n",
       "  <thead>\n",
       "    <tr style=\"text-align: right;\">\n",
       "      <th></th>\n",
       "      <th>First_Loc</th>\n",
       "      <th>Second_Loc</th>\n",
       "      <th>Sep</th>\n",
       "    </tr>\n",
       "  </thead>\n",
       "  <tbody>\n",
       "    <tr>\n",
       "      <th>0</th>\n",
       "      <td>645602</td>\n",
       "      <td>645787</td>\n",
       "      <td>19.440705</td>\n",
       "    </tr>\n",
       "    <tr>\n",
       "      <th>1</th>\n",
       "      <td>651449</td>\n",
       "      <td>652553</td>\n",
       "      <td>12.694922</td>\n",
       "    </tr>\n",
       "    <tr>\n",
       "      <th>2</th>\n",
       "      <td>645787</td>\n",
       "      <td>647190</td>\n",
       "      <td>17.268397</td>\n",
       "    </tr>\n",
       "    <tr>\n",
       "      <th>3</th>\n",
       "      <td>649428</td>\n",
       "      <td>649606</td>\n",
       "      <td>13.064617</td>\n",
       "    </tr>\n",
       "    <tr>\n",
       "      <th>4</th>\n",
       "      <td>649348</td>\n",
       "      <td>649809</td>\n",
       "      <td>19.667827</td>\n",
       "    </tr>\n",
       "    <tr>\n",
       "      <th>5</th>\n",
       "      <td>649876</td>\n",
       "      <td>650136</td>\n",
       "      <td>12.081126</td>\n",
       "    </tr>\n",
       "    <tr>\n",
       "      <th>6</th>\n",
       "      <td>649876</td>\n",
       "      <td>651213</td>\n",
       "      <td>14.828850</td>\n",
       "    </tr>\n",
       "    <tr>\n",
       "      <th>7</th>\n",
       "      <td>649405</td>\n",
       "      <td>649876</td>\n",
       "      <td>8.673922</td>\n",
       "    </tr>\n",
       "    <tr>\n",
       "      <th>8</th>\n",
       "      <td>649405</td>\n",
       "      <td>650136</td>\n",
       "      <td>9.708314</td>\n",
       "    </tr>\n",
       "    <tr>\n",
       "      <th>9</th>\n",
       "      <td>649809</td>\n",
       "      <td>650136</td>\n",
       "      <td>17.977599</td>\n",
       "    </tr>\n",
       "    <tr>\n",
       "      <th>10</th>\n",
       "      <td>648326</td>\n",
       "      <td>649304</td>\n",
       "      <td>19.226271</td>\n",
       "    </tr>\n",
       "    <tr>\n",
       "      <th>11</th>\n",
       "      <td>645910</td>\n",
       "      <td>645966</td>\n",
       "      <td>6.809970</td>\n",
       "    </tr>\n",
       "    <tr>\n",
       "      <th>12</th>\n",
       "      <td>645910</td>\n",
       "      <td>646179</td>\n",
       "      <td>12.998633</td>\n",
       "    </tr>\n",
       "    <tr>\n",
       "      <th>13</th>\n",
       "      <td>645966</td>\n",
       "      <td>646179</td>\n",
       "      <td>19.146501</td>\n",
       "    </tr>\n",
       "    <tr>\n",
       "      <th>14</th>\n",
       "      <td>646179</td>\n",
       "      <td>646710</td>\n",
       "      <td>14.395787</td>\n",
       "    </tr>\n",
       "    <tr>\n",
       "      <th>15</th>\n",
       "      <td>651491</td>\n",
       "      <td>651821</td>\n",
       "      <td>18.650473</td>\n",
       "    </tr>\n",
       "    <tr>\n",
       "      <th>16</th>\n",
       "      <td>649125</td>\n",
       "      <td>650789</td>\n",
       "      <td>18.782705</td>\n",
       "    </tr>\n",
       "    <tr>\n",
       "      <th>17</th>\n",
       "      <td>650743</td>\n",
       "      <td>650789</td>\n",
       "      <td>14.052305</td>\n",
       "    </tr>\n",
       "    <tr>\n",
       "      <th>18</th>\n",
       "      <td>653171</td>\n",
       "      <td>653270</td>\n",
       "      <td>14.461168</td>\n",
       "    </tr>\n",
       "    <tr>\n",
       "      <th>19</th>\n",
       "      <td>644624</td>\n",
       "      <td>645382</td>\n",
       "      <td>13.509353</td>\n",
       "    </tr>\n",
       "    <tr>\n",
       "      <th>20</th>\n",
       "      <td>644596</td>\n",
       "      <td>644624</td>\n",
       "      <td>12.982854</td>\n",
       "    </tr>\n",
       "    <tr>\n",
       "      <th>21</th>\n",
       "      <td>647321</td>\n",
       "      <td>648118</td>\n",
       "      <td>17.014812</td>\n",
       "    </tr>\n",
       "    <tr>\n",
       "      <th>22</th>\n",
       "      <td>649056</td>\n",
       "      <td>649349</td>\n",
       "      <td>16.130701</td>\n",
       "    </tr>\n",
       "    <tr>\n",
       "      <th>23</th>\n",
       "      <td>635430</td>\n",
       "      <td>636904</td>\n",
       "      <td>19.755209</td>\n",
       "    </tr>\n",
       "    <tr>\n",
       "      <th>24</th>\n",
       "      <td>639562</td>\n",
       "      <td>641084</td>\n",
       "      <td>16.286532</td>\n",
       "    </tr>\n",
       "    <tr>\n",
       "      <th>25</th>\n",
       "      <td>641084</td>\n",
       "      <td>641230</td>\n",
       "      <td>7.669093</td>\n",
       "    </tr>\n",
       "    <tr>\n",
       "      <th>26</th>\n",
       "      <td>641373</td>\n",
       "      <td>642379</td>\n",
       "      <td>11.021874</td>\n",
       "    </tr>\n",
       "    <tr>\n",
       "      <th>27</th>\n",
       "      <td>635430</td>\n",
       "      <td>636087</td>\n",
       "      <td>15.194688</td>\n",
       "    </tr>\n",
       "    <tr>\n",
       "      <th>28</th>\n",
       "      <td>634577</td>\n",
       "      <td>635430</td>\n",
       "      <td>18.238985</td>\n",
       "    </tr>\n",
       "    <tr>\n",
       "      <th>29</th>\n",
       "      <td>634635</td>\n",
       "      <td>635430</td>\n",
       "      <td>19.093167</td>\n",
       "    </tr>\n",
       "    <tr>\n",
       "      <th>...</th>\n",
       "      <td>...</td>\n",
       "      <td>...</td>\n",
       "      <td>...</td>\n",
       "    </tr>\n",
       "    <tr>\n",
       "      <th>2640567</th>\n",
       "      <td>532323</td>\n",
       "      <td>535597</td>\n",
       "      <td>18.374779</td>\n",
       "    </tr>\n",
       "    <tr>\n",
       "      <th>2640568</th>\n",
       "      <td>532323</td>\n",
       "      <td>532808</td>\n",
       "      <td>19.265158</td>\n",
       "    </tr>\n",
       "    <tr>\n",
       "      <th>2640569</th>\n",
       "      <td>531710</td>\n",
       "      <td>534811</td>\n",
       "      <td>14.746962</td>\n",
       "    </tr>\n",
       "    <tr>\n",
       "      <th>2640570</th>\n",
       "      <td>531710</td>\n",
       "      <td>533551</td>\n",
       "      <td>11.628751</td>\n",
       "    </tr>\n",
       "    <tr>\n",
       "      <th>2640571</th>\n",
       "      <td>533551</td>\n",
       "      <td>533595</td>\n",
       "      <td>16.472990</td>\n",
       "    </tr>\n",
       "    <tr>\n",
       "      <th>2640572</th>\n",
       "      <td>533507</td>\n",
       "      <td>533551</td>\n",
       "      <td>12.083367</td>\n",
       "    </tr>\n",
       "    <tr>\n",
       "      <th>2640573</th>\n",
       "      <td>533507</td>\n",
       "      <td>533595</td>\n",
       "      <td>15.943092</td>\n",
       "    </tr>\n",
       "    <tr>\n",
       "      <th>2640574</th>\n",
       "      <td>532226</td>\n",
       "      <td>533551</td>\n",
       "      <td>14.151901</td>\n",
       "    </tr>\n",
       "    <tr>\n",
       "      <th>2640575</th>\n",
       "      <td>532226</td>\n",
       "      <td>533507</td>\n",
       "      <td>9.973955</td>\n",
       "    </tr>\n",
       "    <tr>\n",
       "      <th>2640576</th>\n",
       "      <td>522059</td>\n",
       "      <td>524107</td>\n",
       "      <td>9.901802</td>\n",
       "    </tr>\n",
       "    <tr>\n",
       "      <th>2640577</th>\n",
       "      <td>524290</td>\n",
       "      <td>525617</td>\n",
       "      <td>4.917480</td>\n",
       "    </tr>\n",
       "    <tr>\n",
       "      <th>2640578</th>\n",
       "      <td>517089</td>\n",
       "      <td>522059</td>\n",
       "      <td>17.498179</td>\n",
       "    </tr>\n",
       "    <tr>\n",
       "      <th>2640579</th>\n",
       "      <td>521847</td>\n",
       "      <td>522059</td>\n",
       "      <td>19.758190</td>\n",
       "    </tr>\n",
       "    <tr>\n",
       "      <th>2640580</th>\n",
       "      <td>533551</td>\n",
       "      <td>535401</td>\n",
       "      <td>19.449934</td>\n",
       "    </tr>\n",
       "    <tr>\n",
       "      <th>2640581</th>\n",
       "      <td>533595</td>\n",
       "      <td>535401</td>\n",
       "      <td>6.441731</td>\n",
       "    </tr>\n",
       "    <tr>\n",
       "      <th>2640582</th>\n",
       "      <td>533507</td>\n",
       "      <td>535401</td>\n",
       "      <td>19.671149</td>\n",
       "    </tr>\n",
       "    <tr>\n",
       "      <th>2640583</th>\n",
       "      <td>524290</td>\n",
       "      <td>525314</td>\n",
       "      <td>19.485248</td>\n",
       "    </tr>\n",
       "    <tr>\n",
       "      <th>2640584</th>\n",
       "      <td>525617</td>\n",
       "      <td>528233</td>\n",
       "      <td>17.039693</td>\n",
       "    </tr>\n",
       "    <tr>\n",
       "      <th>2640585</th>\n",
       "      <td>525314</td>\n",
       "      <td>525617</td>\n",
       "      <td>16.829290</td>\n",
       "    </tr>\n",
       "    <tr>\n",
       "      <th>2640586</th>\n",
       "      <td>535401</td>\n",
       "      <td>539435</td>\n",
       "      <td>14.840444</td>\n",
       "    </tr>\n",
       "    <tr>\n",
       "      <th>2640587</th>\n",
       "      <td>525314</td>\n",
       "      <td>528233</td>\n",
       "      <td>15.453656</td>\n",
       "    </tr>\n",
       "    <tr>\n",
       "      <th>2640588</th>\n",
       "      <td>539435</td>\n",
       "      <td>544201</td>\n",
       "      <td>19.912786</td>\n",
       "    </tr>\n",
       "    <tr>\n",
       "      <th>2640589</th>\n",
       "      <td>539435</td>\n",
       "      <td>543617</td>\n",
       "      <td>19.148891</td>\n",
       "    </tr>\n",
       "    <tr>\n",
       "      <th>2640590</th>\n",
       "      <td>543617</td>\n",
       "      <td>544201</td>\n",
       "      <td>18.646927</td>\n",
       "    </tr>\n",
       "    <tr>\n",
       "      <th>2640591</th>\n",
       "      <td>542467</td>\n",
       "      <td>544201</td>\n",
       "      <td>13.035284</td>\n",
       "    </tr>\n",
       "    <tr>\n",
       "      <th>2640592</th>\n",
       "      <td>550900</td>\n",
       "      <td>551958</td>\n",
       "      <td>19.753207</td>\n",
       "    </tr>\n",
       "    <tr>\n",
       "      <th>2640593</th>\n",
       "      <td>551958</td>\n",
       "      <td>553580</td>\n",
       "      <td>12.259562</td>\n",
       "    </tr>\n",
       "    <tr>\n",
       "      <th>2640594</th>\n",
       "      <td>553580</td>\n",
       "      <td>556079</td>\n",
       "      <td>14.510330</td>\n",
       "    </tr>\n",
       "    <tr>\n",
       "      <th>2640595</th>\n",
       "      <td>555787</td>\n",
       "      <td>556079</td>\n",
       "      <td>16.145610</td>\n",
       "    </tr>\n",
       "    <tr>\n",
       "      <th>2640596</th>\n",
       "      <td>555787</td>\n",
       "      <td>559605</td>\n",
       "      <td>12.629360</td>\n",
       "    </tr>\n",
       "  </tbody>\n",
       "</table>\n",
       "<p>2640597 rows × 3 columns</p>\n",
       "</div>"
      ],
      "text/plain": [
       "         First_Loc  Second_Loc        Sep\n",
       "0           645602      645787  19.440705\n",
       "1           651449      652553  12.694922\n",
       "2           645787      647190  17.268397\n",
       "3           649428      649606  13.064617\n",
       "4           649348      649809  19.667827\n",
       "5           649876      650136  12.081126\n",
       "6           649876      651213  14.828850\n",
       "7           649405      649876   8.673922\n",
       "8           649405      650136   9.708314\n",
       "9           649809      650136  17.977599\n",
       "10          648326      649304  19.226271\n",
       "11          645910      645966   6.809970\n",
       "12          645910      646179  12.998633\n",
       "13          645966      646179  19.146501\n",
       "14          646179      646710  14.395787\n",
       "15          651491      651821  18.650473\n",
       "16          649125      650789  18.782705\n",
       "17          650743      650789  14.052305\n",
       "18          653171      653270  14.461168\n",
       "19          644624      645382  13.509353\n",
       "20          644596      644624  12.982854\n",
       "21          647321      648118  17.014812\n",
       "22          649056      649349  16.130701\n",
       "23          635430      636904  19.755209\n",
       "24          639562      641084  16.286532\n",
       "25          641084      641230   7.669093\n",
       "26          641373      642379  11.021874\n",
       "27          635430      636087  15.194688\n",
       "28          634577      635430  18.238985\n",
       "29          634635      635430  19.093167\n",
       "...            ...         ...        ...\n",
       "2640567     532323      535597  18.374779\n",
       "2640568     532323      532808  19.265158\n",
       "2640569     531710      534811  14.746962\n",
       "2640570     531710      533551  11.628751\n",
       "2640571     533551      533595  16.472990\n",
       "2640572     533507      533551  12.083367\n",
       "2640573     533507      533595  15.943092\n",
       "2640574     532226      533551  14.151901\n",
       "2640575     532226      533507   9.973955\n",
       "2640576     522059      524107   9.901802\n",
       "2640577     524290      525617   4.917480\n",
       "2640578     517089      522059  17.498179\n",
       "2640579     521847      522059  19.758190\n",
       "2640580     533551      535401  19.449934\n",
       "2640581     533595      535401   6.441731\n",
       "2640582     533507      535401  19.671149\n",
       "2640583     524290      525314  19.485248\n",
       "2640584     525617      528233  17.039693\n",
       "2640585     525314      525617  16.829290\n",
       "2640586     535401      539435  14.840444\n",
       "2640587     525314      528233  15.453656\n",
       "2640588     539435      544201  19.912786\n",
       "2640589     539435      543617  19.148891\n",
       "2640590     543617      544201  18.646927\n",
       "2640591     542467      544201  13.035284\n",
       "2640592     550900      551958  19.753207\n",
       "2640593     551958      553580  12.259562\n",
       "2640594     553580      556079  14.510330\n",
       "2640595     555787      556079  16.145610\n",
       "2640596     555787      559605  12.629360\n",
       "\n",
       "[2640597 rows x 3 columns]"
      ]
     },
     "execution_count": 92,
     "metadata": {},
     "output_type": "execute_result"
    }
   ],
   "source": [
    "pairs_df"
   ]
  },
  {
   "cell_type": "code",
   "execution_count": 83,
   "metadata": {},
   "outputs": [
    {
     "name": "stdout",
     "output_type": "stream",
     "text": [
      "325389\n",
      "[349.672926, -51.955633]\n"
     ]
    }
   ],
   "source": [
    "import random\n",
    "index = random.randint(1,len(df))\n",
    "pos1 = [df['RA'][pairs_df['First_Loc'][index]],df['DEC'][pairs_df['First_Loc'][index]]]\n",
    "print(index)\n",
    "print(pos1)\n",
    "# pos2 = [df['RA'][pairs_df['Second_Loc'][0]],df['DEC'][pairs_df['Second_Loc'][0]]]\n",
    "# print(pos2)"
   ]
  },
  {
   "cell_type": "code",
   "execution_count": 84,
   "metadata": {},
   "outputs": [
    {
     "data": {
      "text/plain": [
       "ID             3.113879e+09\n",
       "RA             1.715416e+01\n",
       "DEC           -4.504954e+01\n",
       "ZREDMAGIC      5.146874e-01\n",
       "ZREDMAGIC_E    1.910837e-02\n",
       "weight         1.021461e+00\n",
       "COMOVING       1.994706e+03\n",
       "COMOVING_E     8.419074e+01\n",
       "x_vec          1.346559e+03\n",
       "y_vec          4.156494e+02\n",
       "z_vec         -1.411689e+03\n",
       "Name: 325389, dtype: float64"
      ]
     },
     "execution_count": 84,
     "metadata": {},
     "output_type": "execute_result"
    }
   ],
   "source": [
    "df.loc[index]"
   ]
  },
  {
   "cell_type": "code",
   "execution_count": 88,
   "metadata": {},
   "outputs": [],
   "source": [
    "# df.loc[pairs_df['Second_Loc'][0]]\n",
    "def SubtractRaDec(radec_1, radec_2):\n",
    "#     assert((len(radec_1) == 2)) #,\"First enetered RaDec does not have two components\")\n",
    "#     assert((len(radec_2) == 2)) #,\"Second enetered RaDec does not have two components\")\n",
    "\n",
    "    ra_1 = radec_1[0]\n",
    "    dec_1 = radec_1[1]\n",
    "    ra_2 = radec_2[0]\n",
    "    dec_2 = radec_2[1]\n",
    "    \n",
    "    ra_diff = 180 - abs(abs(ra_1 - ra_2) - 180)\n",
    "    \n",
    "    dec_diff = 180 - abs(abs(dec_1 - dec_2) - 180)\n",
    "    \n",
    "    return([ra_diff,dec_diff])"
   ]
  },
  {
   "cell_type": "code",
   "execution_count": 89,
   "metadata": {},
   "outputs": [
    {
     "name": "stdout",
     "output_type": "stream",
     "text": [
      "[10.327073999999982, 5.544366999999994]\n"
     ]
    }
   ],
   "source": [
    "# rel_pos_1 = [0-pos1[0],-57.5-pos1[1]]\n",
    "rel_pos_1 = SubtractRaDec([0,-57.5],pos1)\n",
    "print(rel_pos_1)\n",
    "# print(rel_pos_1[0])\n",
    "# [15.089213,5.669675000000012]"
   ]
  },
  {
   "cell_type": "code",
   "execution_count": 82,
   "metadata": {},
   "outputs": [
    {
     "ename": "ValueError",
     "evalue": "zero-size array to reduction operation minimum which has no identity",
     "output_type": "error",
     "traceback": [
      "\u001b[0;31m---------------------------------------------------------------------------\u001b[0m",
      "\u001b[0;31mValueError\u001b[0m                                Traceback (most recent call last)",
      "\u001b[0;32m<ipython-input-82-43a3a0100229>\u001b[0m in \u001b[0;36m<module>\u001b[0;34m()\u001b[0m\n\u001b[0;32m----> 1\u001b[0;31m \u001b[0my_map\u001b[0m\u001b[0;34m.\u001b[0m\u001b[0mgetSubmap\u001b[0m\u001b[0;34m(\u001b[0m\u001b[0;34m[\u001b[0m\u001b[0;36m1\u001b[0m\u001b[0;34m,\u001b[0m\u001b[0;36m1\u001b[0m\u001b[0;34m]\u001b[0m\u001b[0;34m,\u001b[0m \u001b[0mcenter_offset\u001b[0m\u001b[0;34m=\u001b[0m\u001b[0;34m[\u001b[0m\u001b[0mrel_pos_1\u001b[0m\u001b[0;34m[\u001b[0m\u001b[0;36m0\u001b[0m\u001b[0;34m]\u001b[0m\u001b[0;34m,\u001b[0m\u001b[0mrel_pos_1\u001b[0m\u001b[0;34m[\u001b[0m\u001b[0;36m1\u001b[0m\u001b[0;34m]\u001b[0m\u001b[0;34m]\u001b[0m\u001b[0;34m,\u001b[0m \u001b[0munits\u001b[0m\u001b[0;34m=\u001b[0m\u001b[0;34m'degree'\u001b[0m\u001b[0;34m)\u001b[0m\u001b[0;34m.\u001b[0m\u001b[0mdrawImage\u001b[0m\u001b[0;34m(\u001b[0m\u001b[0mbw\u001b[0m\u001b[0;34m=\u001b[0m\u001b[0mFalse\u001b[0m\u001b[0;34m)\u001b[0m\u001b[0;34m\u001b[0m\u001b[0m\n\u001b[0m",
      "\u001b[0;32m/home/mitchell/Software/SPT/sptpol_software/observation/sky.pyc\u001b[0m in \u001b[0;36mdrawImage\u001b[0;34m(self, polarizations, units, title, gaussian_smooth, weight, reverse, normalize_pol, vmin, vmax, pmin, pmax, log, bw, radec, extent, mask, show_plot, figure, layout, subplot_positions, colormap, imshow_param)\u001b[0m\n\u001b[1;32m   2718\u001b[0m                 \u001b[0;31m# Determine actual min/max of (possibly masked) map.  This is only used for colobar stuff.\u001b[0m\u001b[0;34m\u001b[0m\u001b[0;34m\u001b[0m\u001b[0m\n\u001b[1;32m   2719\u001b[0m                 \u001b[0;32mif\u001b[0m \u001b[0mthis_min\u001b[0m \u001b[0;32mis\u001b[0m \u001b[0mNone\u001b[0m\u001b[0;34m:\u001b[0m\u001b[0;34m\u001b[0m\u001b[0m\n\u001b[0;32m-> 2720\u001b[0;31m                     \u001b[0mthis_min\u001b[0m \u001b[0;34m=\u001b[0m \u001b[0mmap_to_plot\u001b[0m\u001b[0;34m.\u001b[0m\u001b[0mmin\u001b[0m\u001b[0;34m(\u001b[0m\u001b[0;34m)\u001b[0m\u001b[0;34m\u001b[0m\u001b[0m\n\u001b[0m\u001b[1;32m   2721\u001b[0m                 \u001b[0;32mif\u001b[0m \u001b[0mthis_max\u001b[0m \u001b[0;32mis\u001b[0m \u001b[0mNone\u001b[0m\u001b[0;34m:\u001b[0m\u001b[0;34m\u001b[0m\u001b[0m\n\u001b[1;32m   2722\u001b[0m                     \u001b[0mthis_max\u001b[0m \u001b[0;34m=\u001b[0m \u001b[0mmap_to_plot\u001b[0m\u001b[0;34m.\u001b[0m\u001b[0mmax\u001b[0m\u001b[0;34m(\u001b[0m\u001b[0;34m)\u001b[0m\u001b[0;34m\u001b[0m\u001b[0m\n",
      "\u001b[0;32m/home/mitchell/Software/anaconda3/envs/py27/lib/python2.7/site-packages/numpy/core/_methods.pyc\u001b[0m in \u001b[0;36m_amin\u001b[0;34m(a, axis, out, keepdims, initial)\u001b[0m\n\u001b[1;32m     30\u001b[0m def _amin(a, axis=None, out=None, keepdims=False,\n\u001b[1;32m     31\u001b[0m           initial=_NoValue):\n\u001b[0;32m---> 32\u001b[0;31m     \u001b[0;32mreturn\u001b[0m \u001b[0mumr_minimum\u001b[0m\u001b[0;34m(\u001b[0m\u001b[0ma\u001b[0m\u001b[0;34m,\u001b[0m \u001b[0maxis\u001b[0m\u001b[0;34m,\u001b[0m \u001b[0mNone\u001b[0m\u001b[0;34m,\u001b[0m \u001b[0mout\u001b[0m\u001b[0;34m,\u001b[0m \u001b[0mkeepdims\u001b[0m\u001b[0;34m,\u001b[0m \u001b[0minitial\u001b[0m\u001b[0;34m)\u001b[0m\u001b[0;34m\u001b[0m\u001b[0m\n\u001b[0m\u001b[1;32m     33\u001b[0m \u001b[0;34m\u001b[0m\u001b[0m\n\u001b[1;32m     34\u001b[0m def _sum(a, axis=None, dtype=None, out=None, keepdims=False,\n",
      "\u001b[0;31mValueError\u001b[0m: zero-size array to reduction operation minimum which has no identity"
     ]
    },
    {
     "data": {
      "image/png": "[encoded data removed]",
      "text/plain": [
       "<Figure size 432x288 with 1 Axes>"
      ]
     },
     "metadata": {
      "needs_background": "light"
     },
     "output_type": "display_data"
    }
   ],
   "source": [
    "y_map.getSubmap([1,1], center_offset=[rel_pos_1[0],rel_pos_1[1]], units='degree').drawImage(bw=False)"
   ]
  },
  {
   "cell_type": "code",
   "execution_count": 22,
   "metadata": {},
   "outputs": [],
   "source": [
    "def euclideanDistance(instance1, instance2, length):\n",
    "    distance = 0\n",
    "    for x in range(length):\n",
    "        distance += pow((instance1[x] - instance2[x]), 2)\n",
    "    return np.sqrt(distance)\n",
    "    "
   ]
  },
  {
   "cell_type": "code",
   "execution_count": 71,
   "metadata": {},
   "outputs": [
    {
     "name": "stdout",
     "output_type": "stream",
     "text": [
      "359.999761\n",
      "0.00065\n",
      "-38.19687\n",
      "-60.008339\n"
     ]
    }
   ],
   "source": [
    "print(np.max(df['RA']))\n",
    "print(np.min(df['RA']))\n",
    "print(np.max(df['DEC']))\n",
    "print(np.min(df['DEC']))\n"
   ]
  },
  {
   "cell_type": "code",
   "execution_count": 31,
   "metadata": {},
   "outputs": [],
   "source": [
    "np.savetxt('pairs.csv',pairs.T,delimiter=',')"
   ]
  },
  {
   "cell_type": "code",
   "execution_count": 29,
   "metadata": {},
   "outputs": [
    {
     "name": "stdout",
     "output_type": "stream",
     "text": [
      "19.440705076443454\n"
     ]
    }
   ],
   "source": [
    "vec1 = galaxy_pairs.get_vec_distances(df['RA'][int(pairs[0][0])],df['DEC'][int(pairs[0][0])],df['COMOVING'][int(pairs[0][0])])\n",
    "vec2 = galaxy_pairs.get_vec_distances(df['RA'][int(pairs[1][0])],df['DEC'][int(pairs[1][0])],df['COMOVING'][int(pairs[1][0])])\n",
    "print(euclideanDistance(vec1,vec2,3))"
   ]
  },
  {
   "cell_type": "code",
   "execution_count": 25,
   "metadata": {},
   "outputs": [],
   "source": [
    "df.to_csv('DES_REDMAGIC_Manipulated.csv')"
   ]
  },
  {
   "cell_type": "code",
   "execution_count": 26,
   "metadata": {},
   "outputs": [
    {
     "ename": "NameError",
     "evalue": "name 'RaDec2XYZ' is not defined",
     "output_type": "error",
     "traceback": [
      "\u001b[0;31m---------------------------------------------------------------------------\u001b[0m",
      "\u001b[0;31mNameError\u001b[0m                                 Traceback (most recent call last)",
      "\u001b[0;32m<ipython-input-26-87edcb21fc2f>\u001b[0m in \u001b[0;36m<module>\u001b[0;34m()\u001b[0m\n\u001b[0;32m----> 1\u001b[0;31m \u001b[0mvec_unit_test\u001b[0m \u001b[0;34m=\u001b[0m \u001b[0mRaDec2XYZ\u001b[0m\u001b[0;34m(\u001b[0m\u001b[0mdf\u001b[0m\u001b[0;34m[\u001b[0m\u001b[0;34m'RA'\u001b[0m\u001b[0;34m]\u001b[0m\u001b[0;34m,\u001b[0m\u001b[0mdf\u001b[0m\u001b[0;34m[\u001b[0m\u001b[0;34m'DEC'\u001b[0m\u001b[0;34m]\u001b[0m\u001b[0;34m)\u001b[0m\u001b[0;34m\u001b[0m\u001b[0m\n\u001b[0m\u001b[1;32m      2\u001b[0m \u001b[0;32mprint\u001b[0m\u001b[0;34m(\u001b[0m\u001b[0mvec_unit_test\u001b[0m\u001b[0;34m)\u001b[0m\u001b[0;34m\u001b[0m\u001b[0m\n\u001b[1;32m      3\u001b[0m \u001b[0;32mprint\u001b[0m\u001b[0;34m(\u001b[0m\u001b[0mnp\u001b[0m\u001b[0;34m.\u001b[0m\u001b[0mshape\u001b[0m\u001b[0;34m(\u001b[0m\u001b[0mvec_unit_test\u001b[0m\u001b[0;34m)\u001b[0m\u001b[0;34m)\u001b[0m\u001b[0;34m\u001b[0m\u001b[0m\n\u001b[1;32m      4\u001b[0m \u001b[0mvec_unit_test2\u001b[0m \u001b[0;34m=\u001b[0m \u001b[0mvec_unit_test\u001b[0m\u001b[0;34m[\u001b[0m\u001b[0;36m0\u001b[0m\u001b[0;34m]\u001b[0m\u001b[0;34m\u001b[0m\u001b[0m\n\u001b[1;32m      5\u001b[0m \u001b[0;32mprint\u001b[0m\u001b[0;34m(\u001b[0m\u001b[0mvec_unit_test2\u001b[0m\u001b[0;34m)\u001b[0m\u001b[0;34m\u001b[0m\u001b[0m\n",
      "\u001b[0;31mNameError\u001b[0m: name 'RaDec2XYZ' is not defined"
     ]
    }
   ],
   "source": [
    "# vec_unit_test = RaDec2XYZ(df['RA'],df['DEC'])\n",
    "# print(vec_unit_test)\n",
    "# print(np.shape(vec_unit_test))\n",
    "# vec_unit_test2 = vec_unit_test[0]\n",
    "# print(vec_unit_test2)"
   ]
  },
  {
   "cell_type": "code",
   "execution_count": 120,
   "metadata": {},
   "outputs": [
    {
     "name": "stdout",
     "output_type": "stream",
     "text": [
      "Help on function ang2Pix in module sptpol_software.observation.sky:\n",
      "\n",
      "ang2Pix(ra_dec, ra_dec_center, reso_arcmin, map_pixel_shape, proj=0, round=True, bin_center_zero=True, return_validity=True, use_c_code=False)\n",
      "    Supported projections are:\n",
      "    \n",
      "     0:  Sanson-Flamsteed projection (x = ra*cos(dec), y = dec)\n",
      "     1:  CAR projection (x = ra, y = dec)\n",
      "     2:  SIN projection\n",
      "     3:  Healpix (not a projection at all, but pixels on the sphere) [NOT IMPLEMENTED]\n",
      "     4:  stereographic projection\n",
      "     5:  Oblique Lambert azimuthal equal-area projection (ref p. 185, Snyder, J. P. 1987, Map Projections-A Working Manual (Washington, DC: U.S. Geological Survey))\n",
      "     7:  CAR projection, with map rotated so that the center is at RA, dec = (0, 0)\n",
      "     8:  \"rot00\"\n",
      "     9:  BICEP projection\n",
      "    \n",
      "    INPUTS\n",
      "        ra_dec : (2-element tuple of arrays) A tuple or list of arrays, [ra, dec]. Can also\n",
      "            be a PointingSequence object. In degrees.\n",
      "    \n",
      "        ra_dec_center : (2-element array) The [RA, declination] of the center of the map. In degrees.\n",
      "    \n",
      "        reso_arcmin : (float) The width of each pixel in arcminutes, assumed to be the same for\n",
      "            both x and y directions.\n",
      "    \n",
      "        map_pixel_shape : (2-element array) The height and width of the map, in pixels.  (n_pix_y, n_pix_x)\n",
      "    \n",
      "        proj [0]: (int or string) Which map projection should I use to turn angles on the\n",
      "            curved sky into pixels on a flat map? May be an integer index, or string\n",
      "            name of the projection.\n",
      "    \n",
      "        round [True]: (bool)\n",
      "    \n",
      "        bin_center_zero [True]: (bool)  only applies if round==False.  If bin_center_zero==True, shift output by 0.5\n",
      "    \n",
      "        return_validity [True]: (bool) If True, return a 2-tuple stating which pixel coordinates are good.\n",
      "            If False, return only the PointingSequence object.\n",
      "    \n",
      "        use_c_code [False]: (bool) If True, use compiled C code to find the pointing. ~10-20% faster than\n",
      "            the Python implementation.\n",
      "    \n",
      "    OUTPUT\n",
      "        A PointingSequence object and a 2-tuple. The PointingSequence has pixel coordinates, in\n",
      "        the form (y_coord, x_coord), where each element is an array of pixel indices.\n",
      "        The second output tuple designates which pixel coordinates are \"good\", i.e., within\n",
      "        bounds. It is of the form (good_ys, good_xs), where each element is\n",
      "        an array of booleans.\n",
      "    \n",
      "        Note:  y_coord is more like elevation than dec: index zero corresponds to the least negative dec\n",
      "               (closest to horizon at south pole)\n",
      "    \n",
      "     EXAMPLE to test 360 wrap:\n",
      "        from sptpol_software.observation import sky\n",
      "        ra =  np.array([-1.,0.,1., 89.,90.,91., 179.,180.,181., 269.,270.,271., 359.,360.,361.])\n",
      "        dec = np.array([0]*len(ra))  # equator\n",
      "        sky.ang2Pix([ra, dec], ra_dec_center=[0,    0], reso_arcmin=60., map_pixel_shape=(360, 360), return_validity = True, use_c_code = False, proj = 1)\n",
      "        sky.ang2Pix([ra, dec], ra_dec_center=[180., 0], reso_arcmin=60., map_pixel_shape=(360, 360), return_validity = True, use_c_code = False, proj = 1)\n",
      "        sky.ang2Pix([ra, dec], ra_dec_center=[180., 0], reso_arcmin=60., map_pixel_shape=(360, 360), return_validity = True, use_c_code = False, proj = 0)\n",
      "        dec = np.array([-60]*len(ra))  # -60 (so cos = 0.5)\n",
      "        sky.ang2Pix([ra, dec], ra_dec_center=[180., -60], reso_arcmin=60., map_pixel_shape=(360, 360), return_validity = True, use_c_code = False, proj = 1)\n",
      "        sky.ang2Pix([ra, dec], ra_dec_center=[180., -60], reso_arcmin=60., map_pixel_shape=(360, 360), return_validity = True, use_c_code = False, proj = 0)  # y_coord's get squished\n",
      "        sky.ang2Pix([ra, dec], ra_dec_center=[0., -60], reso_arcmin=60., map_pixel_shape=(360, 360), return_validity = True, use_c_code = False, proj = 5)  # proj5 not great for all-sky maps\n",
      "        sky.ang2Pix([360-0.01, -40], ra_dec_center=[15.02715, -35.03219], reso_arcmin=60., map_pixel_shape=(360, 360), return_validity = True, use_c_code = False, proj = 0)\n",
      "\n"
     ]
    }
   ],
   "source": [
    "help(sptpol_software.observation.sky.ang2Pix)"
   ]
  },
  {
   "cell_type": "code",
   "execution_count": 123,
   "metadata": {},
   "outputs": [
    {
     "data": {
      "text/plain": [
       "([array([596]), array([1270])], (array([ True]), array([ True])))"
      ]
     },
     "execution_count": 123,
     "metadata": {},
     "output_type": "execute_result"
    }
   ],
   "source": [
    "sptpol_software.observation.sky.ang2Pix(rel_pos_1,[0,-57.5],reso_arcmin=60,map_pixel_shape=[1320, 2520])"
   ]
  },
  {
   "cell_type": "code",
   "execution_count": 150,
   "metadata": {},
   "outputs": [
    {
     "data": {
      "text/plain": [
       "numpy.ndarray"
      ]
     },
     "execution_count": 150,
     "metadata": {},
     "output_type": "execute_result"
    }
   ],
   "source": []
  },
  {
   "cell_type": "code",
   "execution_count": 144,
   "metadata": {},
   "outputs": [
    {
     "data": {
      "text/plain": [
       "<matplotlib.axes._subplots.AxesSubplot at 0x7f302c801b50>"
      ]
     },
     "execution_count": 144,
     "metadata": {},
     "output_type": "execute_result"
    },
    {
     "data": {
      "image/png": "[encoded data removed]",
      "text/plain": [
       "<Figure size 432x288 with 2 Axes>"
      ]
     },
     "metadata": {
      "needs_background": "light"
     },
     "output_type": "display_data"
    }
   ],
   "source": []
  },
  {
   "cell_type": "code",
   "execution_count": null,
   "metadata": {},
   "outputs": [],
   "source": []
  }
 ],
 "metadata": {
  "kernelspec": {
   "display_name": "Python 2",
   "language": "python",
   "name": "python2"
  },
  "language_info": {
   "codemirror_mode": {
    "name": "ipython",
    "version": 2
   },
   "file_extension": ".py",
   "mimetype": "text/x-python",
   "name": "python",
   "nbconvert_exporter": "python",
   "pygments_lexer": "ipython2",
   "version": "2.7.15"
  }
 },
 "nbformat": 4,
 "nbformat_minor": 2
}
